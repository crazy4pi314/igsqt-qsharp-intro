{
 "cells": [
  {
   "cell_type": "markdown",
   "metadata": {
    "slideshow": {
     "slide_type": "slide"
    }
   },
   "source": [
    "# Implementing qRAM in Q#: \n",
    "## A case study in community driven quantum development\n",
    "### [Washington Quantum Computing Meetup](https://www.meetup.com/Washington-Quantum-Computing-Meetup/events/271334520/) #\n",
    "\n",
    "Dr. Sarah Kaiser |  [@crazy4pi314](twitter.com/crazy4pi314) |  20 Aug 2020\n",
    "\n",
    "---\n",
    "\n",
    "Talk slides/Jupyter Notebook can be found at [bit.ly/DCqram](http://bit.ly/DCqram)\n",
    "\n",
    "[![Unitary Fund](https://img.shields.io/badge/Supported%20By-UNITARY%20FUND-brightgreen.svg?style=flat)](http://unitary.fund)\n",
    "\n"
   ]
  },
  {
   "cell_type": "markdown",
   "metadata": {
    "slideshow": {
     "slide_type": "skip"
    }
   },
   "source": [
    "### Abstract\n",
    "\n",
    "Memory for quantum computers is important to several applications like machine learning but faces many challenges when it comes to hardware implementations.\n",
    "There are a variety of theoretical proposals for how to implement memory, but each approach has tradeoffs.\n",
    "In this talk, I will highlight a new library for Q# which implements a variety of qRAM proposals and allows for characterization of the resources needed for each approach.\n",
    "I'll show how this project was developed in the open with members of the Q# community, as well as how we adapted our workflow and tools to best support remote work.\n",
    "I will also demo how we use software development best practices to test, package, and distribute the qRAM library, so that it's easy for researchers to make use of.\n",
    "\n",
    "---\n",
    "\n",
    "#### Installation instructions for running this notebook on your machine can be found [here](https://docs.microsoft.com/en-ca/quantum/install-guide/python?view=qsharp-preview) or you can run this presentation in your browser [FIXME](FIXME)."
   ]
  },
  {
   "cell_type": "markdown",
   "metadata": {
    "slideshow": {
     "slide_type": "slide"
    }
   },
   "source": [
    "## about_me.md\n",
    "<br>\n",
    "\n",
    "<figure style=\"text-align: center;\">\n",
    "    <img src=\"images/kaiser-bio.png\" width=\"75%\">\n",
    "    <caption>\n",
    "      <br>  \n",
    "        <strong></strong>\n",
    "    </caption>\n",
    "</figure>"
   ]
  },
  {
   "cell_type": "markdown",
   "metadata": {
    "slideshow": {
     "slide_type": "slide"
    }
   },
   "source": [
    "## 💪Goals💪"
   ]
  },
  {
   "cell_type": "markdown",
   "metadata": {
    "slideshow": {
     "slide_type": "-"
    }
   },
   "source": [
    "### I want to share with you today:\n",
    " \n",
    " 1. What is memory for a quantum computer, and why we need it,\n",
    " 2. Introduce the Q# Community qRAM library, and \n",
    " 3. Open source quantum development: best practices.                                                                                           "
   ]
  },
  {
   "cell_type": "markdown",
   "metadata": {
    "slideshow": {
     "slide_type": "slide"
    }
   },
   "source": [
    "# Part 1: Quantum Memory"
   ]
  },
  {
   "cell_type": "markdown",
   "metadata": {
    "slideshow": {
     "slide_type": "slide"
    }
   },
   "source": [
    "# This presentation runs on RAM\n",
    "\n",
    "- Classical RAM or _random access memory_ is cheap, fast and plentiful (colorful?)\n",
    "- Implemented with transistors\n",
    "- Generally layed out as arrays of _cells_ that can be **read** from, or **written** to in any order.\n",
    "  \n",
    "  \n",
    "  <figure style=\"text-align: center;\">\n",
    "    <img src=\"https://media.giphy.com/media/XyUgv8u6TRrVmFPpUo/giphy.gif\" width=\"60%\">\n",
    "    <caption>\n",
    "      <br>  \n",
    "        <strong></strong>\n",
    "    </caption>\n",
    "</figure>\n",
    "   "
   ]
  },
  {
   "cell_type": "markdown",
   "metadata": {
    "slideshow": {
     "slide_type": "slide"
    }
   },
   "source": [
    "## Quantum applications _might_ need memory\n",
    "\n",
    "- We need ways to transfer **classical data** to a **quantum system**\n",
    "- _Some_ quantum algorithms, particularly quantum machine learning, assume access to a quantum RAM to load and store data during calculations.\n",
    "\n",
    "<figure style=\"text-align: center;\">\n",
    "    <img src=\"images/superposition-query.png\" width=\"55%\">\n",
    "    <caption>\n",
    "      <br>  \n",
    "        <strong></strong>\n",
    "    </caption>\n",
    "</figure>\n",
    " "
   ]
  },
  {
   "cell_type": "markdown",
   "metadata": {
    "slideshow": {
     "slide_type": "slide"
    }
   },
   "source": [
    "## Can we make something similar for quantum computers? 🤔\n",
    "<br>\n",
    "<figure style=\"text-align: center;\">\n",
    "    <img src=\"https://media.giphy.com/media/374pcIBVEGb6g/source.gif\" width=\"60%\">\n",
    "    <caption>\n",
    "      <br>  \n",
    "        <strong></strong>\n",
    "    </caption>\n",
    "</figure>"
   ]
  },
  {
   "cell_type": "markdown",
   "metadata": {
    "slideshow": {
     "slide_type": "slide"
    }
   },
   "source": [
    "# YES?! Quantum Memory (aka qRAM)"
   ]
  },
  {
   "cell_type": "markdown",
   "metadata": {
    "slideshow": {
     "slide_type": "fragment"
    }
   },
   "source": [
    "## ... but it's not that easy"
   ]
  },
  {
   "cell_type": "markdown",
   "metadata": {
    "slideshow": {
     "slide_type": "fragment"
    }
   },
   "source": [
    " ❗ _An algorithmic speedup **may not** translate to an actual speedup in an application if it is not eﬃcient to use data in the ﬁrst place!_"
   ]
  },
  {
   "cell_type": "markdown",
   "metadata": {
    "slideshow": {
     "slide_type": "slide"
    }
   },
   "source": [
    "# Quantum Memories\n",
    "\n",
    "**Problem:** It is not clear if we will be able to do this eﬃciently at all, let alone in a fault-tolerant setting. \n",
    "\n",
    "😓 Physical limitations like coherence time, error rates, hardwaare supported gates, etc. contribute to the difficulty.\n",
    "\n",
    "💡 There are many different approaches, each optimizing for a particular resource. \n"
   ]
  },
  {
   "cell_type": "markdown",
   "metadata": {
    "slideshow": {
     "slide_type": "slide"
    }
   },
   "source": [
    "## Querying a Quantum Memory\n",
    "\n",
    "🏠 We will use addresses to indicate specific memory cells, and the data in each cell will be classical* bitstring.\n",
    "\n",
    "🙋‍♀️ Queries can readout data as a bitstring $b_a$, at address $a$ in a number of ways:\n",
    "  - Phase: $\\left| a \\right> \\mapsto (-1)^{b_a}\\left|a\\right>$\n",
    "  - Bit value: $\\left|a\\right>\\left|0\\right> \\mapsto \\left|a\\right>\\left|b_a\\right>$\n",
    "\n",
    "\n",
    "\\*Can also store quantum data"
   ]
  },
  {
   "cell_type": "markdown",
   "metadata": {
    "slideshow": {
     "slide_type": "slide"
    }
   },
   "source": [
    "##  A tale of two approaches\n",
    "\n",
    "#### 📑**qROM** : \n",
    "_Read-only_ memory that is like a lookup table. Does _not_ need specially allocated qubits, can just be an operation that prepares a target register with the desired value.\n",
    "\n",
    "#### 💿**qRAM** :\n",
    "Read/write memory most similar to classical memory, can read and write individual memory cells that are implemented with designated hardware resources. \n"
   ]
  },
  {
   "cell_type": "markdown",
   "metadata": {
    "slideshow": {
     "slide_type": "slide"
    }
   },
   "source": [
    "# 📑qROM: a quantum lookup table\n",
    "\n",
    "- Data must be known ahead of time\n",
    "- A query executes a circuit with the data hardcoded \n",
    "- May allow for heavy optimization a head of time depending on data structure\n",
    "- [Initial proposal: 0708.1879](https://arxiv.org/abs/0708.1879)"
   ]
  },
  {
   "cell_type": "markdown",
   "metadata": {
    "slideshow": {
     "slide_type": "slide"
    }
   },
   "source": [
    "## 📑qROM example: simple approach\n",
    "\n",
    "$\\left|a\\right>\\left|0\\right> \\mapsto \\left|a\\right>\\left|b_a\\right>$\n",
    "<!-- - Cost: $O((\\text{# address bits})^2 * 2^{(\\text{# filled addresses})})$ -->\n",
    "<figure style=\"text-align: left;\">\n",
    "    <caption>\n",
    "      <br>  \n",
    "        <strong>This encodes a memory where the data is 1 at these addresses: $\\left|000\\right>, \\left|001\\right>, \\left|011\\right> ,\\left|111\\right>$</strong>\n",
    "    </caption>\n",
    "    <img src=\"images/qram-cover.png\" width=\"30%\">\n",
    "    \n",
    "</figure>"
   ]
  },
  {
   "cell_type": "markdown",
   "metadata": {
    "slideshow": {
     "slide_type": "slide"
    }
   },
   "source": [
    "# 💿qRAM: a quantum analog to classical RAM\n",
    "\n",
    "- Data can be unknown\n",
    "- A _query_ executes a circuit independent of memory contents\n",
    "- A _write_ modiﬁes memory qubits"
   ]
  },
  {
   "cell_type": "markdown",
   "metadata": {
    "slideshow": {
     "slide_type": "slide"
    }
   },
   "source": [
    "## 💿qRAM example: Bucket Brigade\n",
    "$\\left|a\\right>\\left|\\tau\\right>\\left|m\\right>\\left|0\\right> \\mapsto \\left|a\\right>\\left|\\tau\\right>\\left|m\\right>\\left|b_a\\right>$\n",
    "<figure style=\"text-align: left;\">\n",
    "        <caption>\n",
    "      <br>  \n",
    "        <strong>Initial circuit design: S. Arunachalam, V. Gheorghiu, T. Jochym-OConnor, M. Mosca, P. Srinivasan, New Journal\n",
    "of Physics, 17 (12) 123010 (2015)</strong>\n",
    "    </caption>\n",
    "    <img src=\"images/basicbb-qram.png\" width=\"40%\">\n",
    "\n",
    "</figure>"
   ]
  },
  {
   "cell_type": "markdown",
   "metadata": {
    "slideshow": {
     "slide_type": "slide"
    }
   },
   "source": [
    "## 💿qRAM example: Bucket Brigade\n",
    "\n",
    "<figure style=\"text-align: left;\">\n",
    "    <caption> \n",
    "    </caption>\n",
    "    <img src=\"images/basicbb-qram-notes.jpg\" width=\"48%\">\n",
    "\n",
    "</figure>"
   ]
  },
  {
   "cell_type": "markdown",
   "metadata": {
    "slideshow": {
     "slide_type": "slide"
    }
   },
   "source": [
    "## 💿qRAM example: Bucket Brigade\n",
    "\n",
    "<figure style=\"text-align: left;\">\n",
    "        <caption>\n",
    "      <br>  \n",
    "        <strong>Animation of a query to a bucket brigade qRAM</strong>\n",
    "    </caption>\n",
    "    <img src=\"https://raw.githubusercontent.com/qsharp-community/qram/master/docs/images/bb.gif\" width=\"40%\">\n",
    "\n",
    "</figure>"
   ]
  },
  {
   "cell_type": "markdown",
   "metadata": {
    "slideshow": {
     "slide_type": "slide"
    }
   },
   "source": [
    "## Deep dive on tradeoffs + implementations:\n",
    "\n",
    "#### http://bit.ly/between-the-bitlines\n",
    "\n",
    "<figure style=\"text-align: left;\">\n",
    "    <caption> \n",
    "    </caption>\n",
    "    <img src=\"images/olivia-talk-title.png\" width=\"48%\">\n",
    "\n",
    "</figure>"
   ]
  },
  {
   "cell_type": "markdown",
   "metadata": {
    "slideshow": {
     "slide_type": "slide"
    }
   },
   "source": [
    "# So what's the path forward?\n",
    "\n",
    "- To find out **if quantum memories can help us**, we need to have a good way to **evaluate the different proposals**. \n",
    "\n",
    "- Likely the best\\* solutions here will use a combinations of techniques from both approaches \n",
    "\n",
    "<figure style=\"text-align: center;\">\n",
    "    <img src=\"https://media.giphy.com/media/lQ6iahDJqm9oldX5gh/source.gif\" width=\"50%\">\n",
    "    <caption>\n",
    "      <br>  \n",
    "        <strong></strong>\n",
    "    </caption>\n",
    "</figure>\n",
    "\n",
    "\n",
    "<tiny>\\* for a given problem</tiny>"
   ]
  },
  {
   "cell_type": "markdown",
   "metadata": {
    "slideshow": {
     "slide_type": "slide"
    }
   },
   "source": [
    "# How can we evaluate these approaches?\n",
    "\n",
    "There are many different platforms for quantum development, but \n",
    "\n",
    "### **Q#** addressed our needs for this project.\n",
    "\n",
    "🧱 Extensible, portable, and open source framework\n",
    "\n",
    "💻 High-level language designed for quantum computing, hardware agnostic\n",
    "\n",
    "🌎 It works where we work, on any operating system and a variety of development tools/platforms\n",
    "\n",
    "💯 Easy resource estimation built-in\n",
    "\n",
    "👩‍💻Community support for building project\n",
    "    "
   ]
  },
  {
   "cell_type": "markdown",
   "metadata": {
    "slideshow": {
     "slide_type": "slide"
    }
   },
   "source": [
    "# Part 2: The qRAM library"
   ]
  },
  {
   "cell_type": "markdown",
   "metadata": {
    "slideshow": {
     "slide_type": "slide"
    }
   },
   "source": [
    "## https://github.com/qsharp-community/qram\n",
    "\n",
    "### 🏗 In progress! 🏗\n",
    "\n",
    "<figure style=\"text-align: left;\">\n",
    "        <caption>\n",
    "    </caption>\n",
    "    <img src=\"images/github-screencap.png\" width=\"70%\">\n",
    "\n",
    "</figure>"
   ]
  },
  {
   "cell_type": "markdown",
   "metadata": {
    "slideshow": {
     "slide_type": "slide"
    }
   },
   "source": [
    "## Basic layout:\n",
    "\n",
    "```\n",
    "├───📃 docs 📃\n",
    "├───🔮 samples 🔮\n",
    "│   ├───BucketBrigade\n",
    "│   ├───Grover\n",
    "│   ├───Qrom\n",
    "│   ├───ResourceEstimation\n",
    "│   └───SelectSwap\n",
    "├───✨ src ✨\n",
    "└───🧪 tests 🧪\n",
    "```"
   ]
  },
  {
   "cell_type": "markdown",
   "metadata": {
    "slideshow": {
     "slide_type": "slide"
    }
   },
   "source": [
    "# `src`: where qRAMs are implemented\n",
    "<figure style=\"text-align: left;\">\n",
    "        <caption>\n",
    "    </caption>\n",
    "    <img src=\"images/src-screenshot.png\" width=\"70%\">\n",
    "\n",
    "</figure>\n"
   ]
  },
  {
   "cell_type": "markdown",
   "metadata": {
    "slideshow": {
     "slide_type": "slide"
    }
   },
   "source": [
    "## Currently implemented proposals:\n",
    "\n",
    "### qRAM\n",
    "- Bucket Brigade\n",
    "    - Phase query\n",
    "    - Bit query\n",
    "\n",
    "### qROM\n",
    "- Simple\n",
    "- SELECTSWAP"
   ]
  },
  {
   "cell_type": "markdown",
   "metadata": {
    "slideshow": {
     "slide_type": "slide"
    }
   },
   "source": [
    "## Custom Types for quantum memories"
   ]
  },
  {
   "cell_type": "markdown",
   "metadata": {
    "slideshow": {
     "slide_type": "-"
    }
   },
   "source": [
    "```\n",
    "newtype QROM = (\n",
    "    Read : ((LittleEndian, Qubit[]) => Unit is Adj + Ctl), \n",
    "    AddressSize : Int,\n",
    "    DataSize : Int\n",
    ");\n",
    "```"
   ]
  },
  {
   "cell_type": "markdown",
   "metadata": {
    "slideshow": {
     "slide_type": "-"
    }
   },
   "source": [
    "```\n",
    "newtype QRAM = (\n",
    "    QueryPhase : ((AddressRegister, MemoryRegister, Qubit[]) => Unit is Adj + Ctl),\n",
    "    QueryBit : ((AddressRegister, MemoryRegister, Qubit[]) => Unit is Adj + Ctl), \n",
    "    Write : ((MemoryRegister, MemoryCell) => Unit), \n",
    "    AddressSize : Int,\n",
    "    DataSize : Int\n",
    ");\n",
    "```"
   ]
  },
  {
   "cell_type": "markdown",
   "metadata": {
    "slideshow": {
     "slide_type": "slide"
    }
   },
   "source": [
    "## Using a qROM"
   ]
  },
  {
   "cell_type": "code",
   "execution_count": null,
   "metadata": {
    "slideshow": {
     "slide_type": "-"
    }
   },
   "outputs": [],
   "source": [
    "%package QSharpCommunity.Libraries.Qram::1.0.0"
   ]
  },
  {
   "cell_type": "markdown",
   "metadata": {
    "slideshow": {
     "slide_type": "slide"
    }
   },
   "source": [
    "### Using a qROM"
   ]
  },
  {
   "cell_type": "code",
   "execution_count": null,
   "metadata": {
    "slideshow": {
     "slide_type": "-"
    }
   },
   "outputs": [],
   "source": [
    "open Microsoft.Quantum.Arrays;\n",
    "open Microsoft.Quantum.Arithmetic;\n",
    "open Microsoft.Quantum.Canon;\n",
    "open Microsoft.Quantum.Convert;\n",
    "open Microsoft.Quantum.Intrinsic;\n",
    "open Microsoft.Quantum.Measurement;\n",
    "open Qram;"
   ]
  },
  {
   "cell_type": "code",
   "execution_count": null,
   "metadata": {
    "slideshow": {
     "slide_type": "-"
    }
   },
   "outputs": [],
   "source": [
    "function GenerateMemoryData() : MemoryBank {\n",
    "    let numDataBits = 3;\n",
    "    let data =  [\n",
    "        (0, IntAsBoolArray(0, numDataBits)), \n",
    "        (2, IntAsBoolArray(5, numDataBits)),\n",
    "        (4, IntAsBoolArray(2, numDataBits)),\n",
    "        (5, IntAsBoolArray(3, numDataBits))\n",
    "    ];\n",
    "    return GeneratedMemoryBank(Mapped(MemoryCell, data));\n",
    "}"
   ]
  },
  {
   "cell_type": "markdown",
   "metadata": {
    "slideshow": {
     "slide_type": "slide"
    }
   },
   "source": [
    "### Using a qROM"
   ]
  },
  {
   "cell_type": "code",
   "execution_count": null,
   "metadata": {
    "slideshow": {
     "slide_type": "-"
    }
   },
   "outputs": [],
   "source": [
    "operation QromQuerySample(queryAddress : Int) : Int {\n",
    "    // Generate a (Int, Bool[]) array of data.\n",
    "    let data = GenerateMemoryData();\n",
    "    // Create the QRAM.\n",
    "    let memory = QromOracle(data::DataSet);\n",
    "    // Measure and return the data value stored at `queryAddress`.\n",
    "    return QueryAndMeasureQROM(memory, queryAddress);\n",
    "}\n",
    "\n",
    "\n",
    "operation QueryAndMeasureQROM(memory : QROM, queryAddress : Int) : Int {\n",
    "    using ((addressRegister, targetRegister) = \n",
    "            (Qubit[memory::AddressSize], Qubit[memory::DataSize])) {\n",
    "        ApplyPauliFromBitString (PauliX, true, IntAsBoolArray(queryAddress, memory::AddressSize), addressRegister);\n",
    "        memory::Read(LittleEndian(addressRegister), targetRegister);\n",
    "        ResetAll(addressRegister);\n",
    "        return MeasureInteger(LittleEndian(targetRegister));\n",
    "    }\n",
    "}"
   ]
  },
  {
   "cell_type": "markdown",
   "metadata": {
    "slideshow": {
     "slide_type": "slide"
    }
   },
   "source": [
    "### Using a qROM"
   ]
  },
  {
   "cell_type": "markdown",
   "metadata": {
    "slideshow": {
     "slide_type": "-"
    }
   },
   "source": [
    "```\n",
    "// data: {(0, 0), (2, 5), (4, 2), (5, 3)}\n",
    "```"
   ]
  },
  {
   "cell_type": "code",
   "execution_count": null,
   "metadata": {
    "slideshow": {
     "slide_type": "-"
    }
   },
   "outputs": [],
   "source": [
    "%simulate QromQuerySample queryAddress=2"
   ]
  },
  {
   "cell_type": "code",
   "execution_count": null,
   "metadata": {
    "slideshow": {
     "slide_type": "-"
    }
   },
   "outputs": [],
   "source": [
    "%estimate QromQuerySample queryAddress=2"
   ]
  },
  {
   "cell_type": "markdown",
   "metadata": {
    "slideshow": {
     "slide_type": "slide"
    }
   },
   "source": [
    "# `tests`: ✔ our work\n",
    "- Can run small instances on simulators\n",
    "- Can verify resource counts on larger instances\n",
    "<figure style=\"text-align: left;\">\n",
    "        <caption>\n",
    "    </caption>\n",
    "    <img src=\"images/tests-screenshot.png\" width=\"70%\">\n",
    "\n",
    "</figure>\n"
   ]
  },
  {
   "cell_type": "markdown",
   "metadata": {
    "slideshow": {
     "slide_type": "slide"
    }
   },
   "source": [
    "# `tests`: ✔ our work\n",
    "<figure style=\"text-align: left;\">\n",
    "        <caption>\n",
    "    </caption>\n",
    "    <img src=\"images/tests-vs-screenshot.png\" width=\"80%\">\n",
    "\n",
    "</figure>\n"
   ]
  },
  {
   "cell_type": "markdown",
   "metadata": {
    "slideshow": {
     "slide_type": "slide"
    }
   },
   "source": [
    "# `docs`: help others use our work💪\n",
    "\n",
    "<figure style=\"text-align: left;\">\n",
    "        <caption>\n",
    "    </caption>\n",
    "    <img src=\"images/docs.png\" width=\"80%\">\n",
    "\n",
    "</figure>"
   ]
  },
  {
   "cell_type": "markdown",
   "metadata": {
    "slideshow": {
     "slide_type": "slide"
    }
   },
   "source": [
    "## 💡Q# Tip: Intellisense is your friend, and reads your docs! \n",
    "<figure style=\"text-align: left;\">\n",
    "<img src=\"images/intellisense.png\" width=\"80%\">\n",
    "</figure>"
   ]
  },
  {
   "cell_type": "markdown",
   "metadata": {
    "slideshow": {
     "slide_type": "slide"
    }
   },
   "source": [
    "# Upcoming milestones\n",
    "\n",
    "🔍 Detailed resource counting for subroutines of our programs\n",
    "\n",
    "📓 More documentation in an interactive browser\n",
    "\n",
    "📄 Research paper compiling our results\n",
    "\n",
    "❓ More qRAM/qROM proposals "
   ]
  },
  {
   "cell_type": "markdown",
   "metadata": {
    "slideshow": {
     "slide_type": "slide"
    }
   },
   "source": [
    "<figure style=\"text-align: left;\">\n",
    "        <caption>\n",
    "    </caption>\n",
    "    <img src=\"images/milestones.png\" width=\"80%\">\n",
    "\n",
    "</figure>"
   ]
  },
  {
   "cell_type": "markdown",
   "metadata": {
    "slideshow": {
     "slide_type": "slide"
    }
   },
   "source": [
    "# Part 3: Open Source Quantum Development"
   ]
  },
  {
   "cell_type": "markdown",
   "metadata": {
    "slideshow": {
     "slide_type": "slide"
    }
   },
   "source": [
    "### 💾 Open Source Software\n",
    "Software that can be freely accessed, used, changed, and shared (in modified or unmodified form) by anyone."
   ]
  },
  {
   "cell_type": "markdown",
   "metadata": {
    "slideshow": {
     "slide_type": "fragment"
    }
   },
   "source": [
    "### 🙌Open Source Community\n",
    "Everything _except_ the code\n",
    "\n",
    "- Licences\n",
    "- Processes and governance\n",
    "- Funding\n",
    "- Blogging and Social Media\n",
    "- Diversity\n",
    "- etc."
   ]
  },
  {
   "cell_type": "markdown",
   "metadata": {
    "slideshow": {
     "slide_type": "slide"
    }
   },
   "source": [
    "## Open source and inclusive communities can make amazing things\n",
    "<figure style=\"text-align: left;\">\n",
    "    <img src=\"https://opensource.org/files/AffiliateLogosFinal_7.png\" width=\"30%\">\n",
    "</figure>\n"
   ]
  },
  {
   "cell_type": "markdown",
   "metadata": {
    "slideshow": {
     "slide_type": "slide"
    }
   },
   "source": [
    "## We need to find (or create!) these communities in Quantum Computing\n",
    "\n",
    "- QOSF: Quantum Open Source Foundation\n",
    "- Q# Community\n",
    "- WIQCA: Women in Quantum Computing and Applications\n",
    "- Unitary Fund\n",
    "- ...and more!\n",
    "\n",
    "❗ We also need to understand how the _quantum research_ and _industry_ communities influence our communities."
   ]
  },
  {
   "cell_type": "markdown",
   "metadata": {
    "slideshow": {
     "slide_type": "slide"
    }
   },
   "source": [
    "## Let's `import` OSS best pratices to the quantum relm!\n",
    "There are _**tons**_ of resources for building both open source projects and communities from the classical software community:\n",
    "- https://opensourcediversity.org/\n",
    "- https://opensource.guide/building-community/\n",
    "- Talk: [Building Open Source Communities - Tierney Cyren](https://www.youtube.com/watch?v=9owWEY5pmJg)\n",
    "\n",
    "<!--<figure style=\"margin-left:auto; margin-right:auto;\">\n",
    "    <img src=\"https://media.giphy.com/media/iHyVaHfEYXZos8qPX2/source.gif\" width=\"35%\">\n",
    "    <caption>\n",
    "      <br>  \n",
    "        <strong></strong>\n",
    "    </caption>\n",
    "</figure>-->\n",
    "\n",
    "\n"
   ]
  },
  {
   "cell_type": "markdown",
   "metadata": {
    "slideshow": {
     "slide_type": "slide"
    }
   },
   "source": [
    "## Q# community:\n",
    "\n",
    "**Mission:** we want to _empower everyone_ to get involved in quantum development."
   ]
  },
  {
   "cell_type": "markdown",
   "metadata": {
    "slideshow": {
     "slide_type": "fragment"
    }
   },
   "source": [
    "- Make sure everyone feels **safe and welcome** in our spaces\n",
    "    - Codes of Conduct are CRITICAL\n",
    "    - Support each other however they work, no tool bashing "
   ]
  },
  {
   "cell_type": "markdown",
   "metadata": {
    "slideshow": {
     "slide_type": "fragment"
    }
   },
   "source": [
    " \n",
    "- Understand **how the community communicates**, and setup tools that work for them\n",
    "    - Gitter v. Slack v. Discord v. Listservs etc.  $\\to$ [bit.ly/qsharp-slack](bit.ly/qsharp-slack)\n",
    "    - Make sure this is a consistent, responsive community they can grow in"
   ]
  },
  {
   "cell_type": "markdown",
   "metadata": {
    "slideshow": {
     "slide_type": "fragment"
    }
   },
   "source": [
    "- Ensure we can support for **members of all skill levels**\n",
    "    - Connect them with the right resources and people to help them succeed!\n",
    "    - Informal (possibly formal in the future) mentorship is a huge force multiplier"
   ]
  },
  {
   "cell_type": "markdown",
   "metadata": {
    "slideshow": {
     "slide_type": "slide"
    }
   },
   "source": [
    "## qRAM is a Q# community project\n",
    "\n",
    "<figure style=\"text-align: left;\">\n",
    "    <img src=\"images/qsc-projects.png\" width=\"80%\">\n",
    "</figure>"
   ]
  },
  {
   "cell_type": "markdown",
   "metadata": {
    "slideshow": {
     "slide_type": "slide"
    }
   },
   "source": [
    "## How does the qRAM team work?\n",
    "\n",
    "- Standing time each day for core devs to check in if needed (sort out blocking issues)\n",
    "- Slack channel for design discussions and issue/bug feedback\n",
    "- Multiple operating systems and development toolsets\n",
    "- Program with the community in the open, with everyone. Literally! \n",
    "    - [Twitch](https://www.twitch.tv/crazy4pi314) + Visual Studio/Visual Studio Code [Liveshare](https://visualstudio.microsoft.com/services/live-share/)\n",
    "    <figure style=\"text-align: left;\">\n",
    "    <img src=\"https://visualstudio.microsoft.com/wp-content/uploads/2018/11/v2-Edit-Comp_FINAL-optimized840.gif\" width=\"60%\">\n",
    "</figure>"
   ]
  },
  {
   "cell_type": "markdown",
   "metadata": {
    "slideshow": {
     "slide_type": "slide"
    }
   },
   "source": [
    "# twitch.tv/crazy4pi314\n",
    "<figure style=\"text-align: left;\">\n",
    "    <img src=\"images/sarah-twitch.png\" width=\"80%\">\n",
    "</figure>"
   ]
  },
  {
   "cell_type": "markdown",
   "metadata": {
    "slideshow": {
     "slide_type": "slide"
    }
   },
   "source": [
    "## New 🔨 we made while building qRAM\n",
    "\n",
    "- Q# library [project templates](https://github.com/crazy4pi314/qsharp-library-template) to make it easier for others to start building a new library for Q# from scratch\n",
    "    - [Contribution guide](https://github.com/qsharp-community/qram/blob/master/CONTRIBUTING.md)\n",
    "    - [Code of Conduct](https://github.com/qsharp-community/qram/blob/master/CODE_OF_CONDUCT.md)\n",
    "    - [Basic build automation + testing framework](https://github.com/qsharp-community/qram/actions)\n",
    "- Containers/portable development environments so that we don't have the \"well it worked on my machine\" problem\n",
    "    - Tools like [MyBinder](https://mybinder.org/) and [remote development environments](https://code.visualstudio.com/docs/remote/containers) can be super helpful"
   ]
  },
  {
   "cell_type": "markdown",
   "metadata": {
    "slideshow": {
     "slide_type": "slide"
    }
   },
   "source": [
    "## Things I have learned from working on qRAM...\n",
    "\n",
    "⚡ Find people with different skills to work with, it's amazing what you can build with your POWERS COMBINED"
   ]
  },
  {
   "cell_type": "markdown",
   "metadata": {
    "slideshow": {
     "slide_type": "fragment"
    }
   },
   "source": [
    "😅 Talking to an empty room is one of the hardest things I have had to do"
   ]
  },
  {
   "cell_type": "markdown",
   "metadata": {
    "slideshow": {
     "slide_type": "fragment"
    }
   },
   "source": [
    "🚢 It's hard to do things outside of your comfort zone, but its easier with tons of people helping/watching "
   ]
  },
  {
   "cell_type": "markdown",
   "metadata": {
    "slideshow": {
     "slide_type": "fragment"
    }
   },
   "source": [
    "💡 ABL: Always Be Learning"
   ]
  },
  {
   "cell_type": "markdown",
   "metadata": {
    "slideshow": {
     "slide_type": "slide"
    }
   },
   "source": [
    "# 📝 Review time 📝\n",
    "\n",
    "\n",
    "- qRAM is hard, possibly not even achievable ✔\n",
    "    - Two major approaches for quantum memory, qRAM and qROM ✔\n",
    "- Q# Community library to implement and evaluate quantum memory proposals ✔\n",
    "    - https://github.com/qsharp-community/qram\n",
    "    - Resource estimation of a variety of implementations will help us learn more ✔\n",
    "- Communities help us build quantum solutions ✔\n",
    "    - Thinking about the non-code parts makes it easier and more fun to build new things ✔\n",
    "    - Open and inclusive spaces mean everyone can participate and use what we build ✔"
   ]
  },
  {
   "cell_type": "markdown",
   "metadata": {
    "slideshow": {
     "slide_type": "slide"
    }
   },
   "source": [
    "## ❔ What happens now ❔\n",
    "\n",
    "- Try out the qRAM library, or Q# development for yourself!\n",
    "    - File bugs and feedback for us 💖\n",
    "    - Write blog posts/tutorials\n",
    "    - Use our templates to build libraries for your work\n",
    "- Make your communities better!\n",
    "    - Make sure **everything** has a good code of conduct\n",
    "    - Join mentoring programs to teach or learn new quantum development skills\n",
    "    - Try out some new tools to communicate and work better remotely\n"
   ]
  },
  {
   "cell_type": "markdown",
   "metadata": {
    "slideshow": {
     "slide_type": "slide"
    }
   },
   "source": [
    "## 👩‍💻Thanks and links!👩‍💻\n",
    "\n",
    "\n",
    "- 💿 qRAM Library repo: [github.com/qsharp-community/qram](https://github.com/qsharp-community/qram)\n",
    "\n",
    "- 📚 Q# Documentation: [docs.microsoft.com/quantum](docs.microsoft.com/quantum)\n",
    "\n",
    "- 🙌 Communities:\n",
    "  - Q# Community - [qsharp.community](https://qsharp.community/)\n",
    "  - Women in Quantum Computing and Applications - [wiqca.dev](https://wiqca.dev)\n",
    "\n",
    "- 📗 _Learn Quantum Computing with Python and Q\\#_ :  [bit.ly/qsharp-book](http://www.manning.com/?a_aid=learn-qc-kaiser)\n",
    "\n",
    "- 🚨 Live quantum development on Twitch: [twitch.tv/crazy4pi314](twitch.tv/crazy4pi314)\n",
    "\n",
    "#### These slides: [bit.ly/DCqram](http://bit.ly/DCqram)   |   Me! [@crazy4pi314](https://sckaiser.com)"
   ]
  }
 ],
 "metadata": {
  "celltoolbar": "Slideshow",
  "kernelspec": {
   "display_name": "Q#",
   "language": "qsharp",
   "name": "iqsharp"
  },
  "language_info": {
   "file_extension": ".qs",
   "mimetype": "text/x-qsharp",
   "name": "qsharp",
   "version": "0.12"
  },
  "livereveal": {
   "autolaunch": true,
   "scroll": true
  },
  "rise": {
   "controls": false
  }
 },
 "nbformat": 4,
 "nbformat_minor": 2
}

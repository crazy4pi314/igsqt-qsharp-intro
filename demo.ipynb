{
 "cells": [
  {
   "cell_type": "markdown",
   "metadata": {
    "slideshow": {
     "slide_type": "slide"
    }
   },
   "source": [
    "# Introduction to Q#: A high level quantum development language for everyone\n",
    "### Seminar for [International Graduate School for Quantum Technologies](https://igsqt.ac.uk/events/) \n",
    "\n",
    "Dr. Sarah Kaiser |  [@crazy4pi314](twitter.com/crazy4pi314) | 24 August 2020\n",
    "\n",
    "---\n",
    "\n",
    "Talk slides/Jupyter Notebook can be found at [bit.ly/TODO](https://bit.ly/TODO)\n",
    "\n",
    "[![Unitary Fund](https://img.shields.io/badge/Supported%20By-UNITARY%20FUND-brightgreen.svg?style=flat)](http://unitary.fund)"
   ]
  },
  {
   "cell_type": "markdown",
   "metadata": {
    "slideshow": {
     "slide_type": "skip"
    }
   },
   "source": [
    "### Abstract\n",
    "As the field of Quantum Computing expands from the academic to the industry realm, we need a way that we can continue to collaborate and innovate in both regimes.\n",
    "Open source quantum software development platforms like the Quantum Development Kit and Q# from Microsoft, serve as a bridge to connect research ideas to reality.\n",
    "In this talk, I will give you a tour of what you can do with Q# and show you an example of how I am using it in my own research on qRAMs.\n",
    "After this talk, you will have the resources you need to dive into using Q# for your own research projects!\n",
    "\n",
    "---\n",
    "\n",
    "#### Installation instructions for running this notebook on your machine can be found [here](https://docs.microsoft.com/quantum/install-guide/python?view=qsharp-preview) or you can run this presentation in your browser [here](TODO)."
   ]
  },
  {
   "cell_type": "markdown",
   "metadata": {
    "slideshow": {
     "slide_type": "slide"
    }
   },
   "source": [
    "## whoami: author, streamer, community builder...\n",
    "<br>\n",
    "\n",
    "<figure style=\"text-align: center;\">\n",
    "    <img src=\"media/kaiser-bio.png\" width=\"75%\">\n",
    "    <caption>\n",
    "      <br>  \n",
    "        <strong></strong>\n",
    "    </caption>\n",
    "</figure>"
   ]
  },
  {
   "cell_type": "markdown",
   "metadata": {
    "slideshow": {
     "slide_type": "slide"
    }
   },
   "source": [
    "## ... and a researcher  👩‍💻\n",
    "\n",
    "<br>\n",
    "\n",
    "<figure style=\"text-align: center;\">\n",
    "    <img src=\"media/kaiser-lab.jpg\" width=\"35%\">\n",
    "    <caption>\n",
    "      <br>  \n",
    "        <strong></strong>\n",
    "    </caption>\n",
    "</figure>"
   ]
  },
  {
   "cell_type": "markdown",
   "metadata": {
    "slideshow": {
     "slide_type": "slide"
    }
   },
   "source": [
    "## 📃Agenda\n",
    " \n",
    "1. Introduce you to a research project I have been working on: a [Q# library for qRAM](https://github.com/qsharp-community/qram),\n",
    "2. give you a tour of Q# and why we are using it for our research, \n",
    "3. show you some of what our qRAM library looks like and how we use it, and\n",
    "4. share some tools and resources for how you can leverage Q# for your own research and studies!\n"
   ]
  },
  {
   "cell_type": "markdown",
   "metadata": {
    "slideshow": {
     "slide_type": "skip"
    }
   },
   "source": [
    "### ...wait where are the lasers? 🤷‍♀️\n",
    "\n",
    "Especially in research, interesting questions start projects. The qRAM project was no different."
   ]
  },
  {
   "cell_type": "markdown",
   "metadata": {
    "slideshow": {
     "slide_type": "slide"
    }
   },
   "source": [
    "# Part 1: A quantum memory problem"
   ]
  },
  {
   "cell_type": "markdown",
   "metadata": {
    "slideshow": {
     "slide_type": "slide"
    }
   },
   "source": [
    "# This presentation runs on RAM\n",
    "\n",
    "- Classical RAM or _random access memory_ is cheap, fast and plentiful (colorful?)\n",
    "- Implemented with transistors\n",
    "- Generally layed out as arrays of _cells_ that can be **read** from, or **written** to in any order.\n",
    "  \n",
    "  \n",
    "  <figure style=\"text-align: center;\">\n",
    "    <img src=\"https://media.giphy.com/media/XyUgv8u6TRrVmFPpUo/giphy.gif\" width=\"60%\">\n",
    "    <caption>\n",
    "      <br>  \n",
    "        <strong></strong>\n",
    "    </caption>\n",
    "</figure>"
   ]
  },
  {
   "cell_type": "markdown",
   "metadata": {
    "slideshow": {
     "slide_type": "slide"
    }
   },
   "source": [
    "## Quantum applications _might_ need memory\n",
    "\n",
    "- We need ways to transfer **classical data** to a **quantum system**\n",
    "- _Some_ quantum algorithms, particularly quantum machine learning, assume access to a quantum RAM to load and store data during calculations.\n",
    "\n",
    "<figure style=\"text-align: center;\">\n",
    "    <img src=\"media/superposition-query.png\" width=\"55%\">\n",
    "    <caption>\n",
    "      <br>  \n",
    "        <strong></strong>\n",
    "    </caption>\n",
    "</figure>\n",
    "\n",
    "-TODO: use equation to show transformation, talk about oracle and where used"
   ]
  },
  {
   "cell_type": "markdown",
   "metadata": {
    "slideshow": {
     "slide_type": "slide"
    }
   },
   "source": [
    "## Can we make something similar for quantum computers? 🤔\n",
    "<br>\n",
    "<figure style=\"text-align: center;\">\n",
    "    <img src=\"https://media.giphy.com/media/374pcIBVEGb6g/source.gif\" width=\"60%\">\n",
    "    <caption>\n",
    "      <br>  \n",
    "        <strong></strong>\n",
    "    </caption>\n",
    "</figure>"
   ]
  },
  {
   "cell_type": "markdown",
   "metadata": {
    "slideshow": {
     "slide_type": "slide"
    }
   },
   "source": [
    "# Maybe?! Quantum Memories (aka qRAM)\n",
    "\n",
    "**Problem:** It is not clear if we will be able to do this eﬃciently at all, let alone in a fault-tolerant setting. \n",
    "\n",
    " ❗ _An algorithmic speedup **may not** translate to an actual speedup in an application if it is not eﬃcient to use data in the ﬁrst place!_\n",
    "\n",
    "😓 Physical limitations like coherence time, error rates, hardwaare supported gates, etc. contribute to the difficulty.\n",
    "\n",
    "💡 There are many different approaches, each optimizing for a particular resource. \n"
   ]
  },
  {
   "cell_type": "markdown",
   "metadata": {
    "slideshow": {
     "slide_type": "slide"
    }
   },
   "source": [
    "## Deep Dive: qRAM approaches and tradeoffs:\n",
    "\n",
    "#### http://bit.ly/between-the-bitlines\n",
    "\n",
    "<figure style=\"text-align: left;\">\n",
    "    <caption> \n",
    "    </caption>\n",
    "    <img src=\"media/olivia-talk-title.png\" width=\"48%\">\n",
    "\n",
    "</figure>"
   ]
  },
  {
   "cell_type": "markdown",
   "metadata": {
    "slideshow": {
     "slide_type": "slide"
    }
   },
   "source": [
    "## So what's the path forward?\n",
    "\n",
    "- To find out **if qRAM will ever work**, we need to have a good way to **evaluate different proposals**.\n",
    "\n",
    "- How can we compare tons of papers when none provide implementations?\n",
    "\n",
    "<figure style=\"text-align: center;\">\n",
    "    <img src=\"https://media.giphy.com/media/lQ6iahDJqm9oldX5gh/source.gif\" width=\"50%\">\n",
    "    <caption>\n",
    "      <br>  \n",
    "        <strong></strong>\n",
    "    </caption>\n",
    "</figure>"
   ]
  },
  {
   "cell_type": "markdown",
   "metadata": {},
   "source": [
    "- transparency is critical for resource estimations\n",
    "    - need to make assumptions clear\n",
    "    - need to make sure that others can reproduce the results"
   ]
  },
  {
   "cell_type": "markdown",
   "metadata": {
    "slideshow": {
     "slide_type": "slide"
    }
   },
   "source": [
    "## Wanted: \n",
    "\n",
    "- A way to implement many different types of qRAM proposals,\n",
    "- count the resources needed for each proposal, and\n",
    "- do it in an open and reproducable way.\n",
    "\n",
    "<figure style=\"text-align: left;\">\n",
    "    <caption> \n",
    "    </caption>\n",
    "    <img src=\"media/wanted.png\" width=\"22%\">\n",
    "\n",
    "</figure>"
   ]
  },
  {
   "cell_type": "markdown",
   "metadata": {
    "slideshow": {
     "slide_type": "slide"
    }
   },
   "source": [
    "## Our solution:\n",
    "**https://github.com/qsharp-community/qram**\n",
    "\n",
    "🏗 In progress! 🏗\n",
    "\n",
    "<figure style=\"text-align: left;\">\n",
    "        <caption>\n",
    "    </caption>\n",
    "    <img src=\"media/github-screencap.png\" width=\"50%\">\n",
    "\n",
    "</figure>"
   ]
  },
  {
   "cell_type": "markdown",
   "metadata": {
    "slideshow": {
     "slide_type": "slide"
    }
   },
   "source": [
    "# Part 2: A tour of Q# and why it worked for us"
   ]
  },
  {
   "cell_type": "markdown",
   "metadata": {
    "slideshow": {
     "slide_type": "slide"
    }
   },
   "source": [
    "## So many options...\n",
    "\n",
    "- One of the most exciting things to me right now about quantum computing is that it is staying open source.\n",
    "\n",
    "https://qosf.org/project_list/\n",
    "\n",
    "<figure style=\"text-align: left;\">\n",
    "        <caption>\n",
    "    </caption>\n",
    "    <img src=\"media/qsof.gif\" width=\"50%\">\n",
    "\n",
    "</figure>"
   ]
  },
  {
   "cell_type": "markdown",
   "metadata": {
    "slideshow": {
     "slide_type": "slide"
    }
   },
   "source": [
    "## What we need:"
   ]
  },
  {
   "cell_type": "markdown",
   "metadata": {
    "slideshow": {
     "slide_type": "fragment"
    }
   },
   "source": [
    "- We want to implement _algorithms_\n",
    "  - We want to think about qRAM algorithims at a high level, not always specifically at the gate level\n",
    "  - Need the flexablilty to create gate level optimizations as well"
   ]
  },
  {
   "cell_type": "markdown",
   "metadata": {
    "slideshow": {
     "slide_type": "fragment"
    }
   },
   "source": [
    "- We want to build tools to enable research and collaboration\n",
    "  - Need easy ways to packages our work and make it easy to share, collaborate, and reproduce\n",
    "  - We want to work with a community where we are all included and safe"
   ]
  },
  {
   "cell_type": "markdown",
   "metadata": {
    "slideshow": {
     "slide_type": "slide"
    }
   },
   "source": [
    "# 📊 What do you know about Q#?"
   ]
  },
  {
   "cell_type": "markdown",
   "metadata": {
    "slideshow": {
     "slide_type": "slide"
    }
   },
   "source": [
    "# Q\\# : Microsoft's quantum programming language\n",
    "\n",
    "- New open source language (not C# based) that is domain-specific for quantum computing\n",
    "- Used with the [_Quantum Development Kit_](https://www.microsoft.com/en-us/quantum/development-kit) which provides lots of tools for writing and running your programs.\n",
    "- Designed to be integrated with host programs in a number of languages/platforms like Python and .NET\n",
    "    - Q# is Built on .NET Core, so Q# runs on all operating systems!\n",
    "    \n",
    "<!-- Do I explicitly be defensive? -->"
   ]
  },
  {
   "cell_type": "markdown",
   "metadata": {
    "slideshow": {
     "slide_type": "slide"
    }
   },
   "source": [
    "\n",
    "## Q\\# design principals\n",
    "\n",
    "From the [developer blog](https://devblogs.microsoft.com/qsharp/why-do-we-need-q/):\n",
    "1. Start minimal and evolve carefully based on user experience.\n",
    "2. Be quantum first, familiar second.\n",
    "3. Use libraries wherever possible, rather than language features.\n",
    "4. Keep clear, well-defined semantics to enable rich optimizations and transformations in the compiler back-end."
   ]
  },
  {
   "cell_type": "markdown",
   "metadata": {
    "slideshow": {
     "slide_type": "slide"
    }
   },
   "source": [
    "<figure style=\"text-align: center;\">\n",
    "    <img src=\"media/stack.png\" width=\"80%\">\n",
    "    <caption>\n",
    "      <br>  \n",
    "        <strong></strong>\n",
    "    </caption>\n",
    "</figure>\n"
   ]
  },
  {
   "cell_type": "markdown",
   "metadata": {
    "slideshow": {
     "slide_type": "slide"
    }
   },
   "source": [
    "## Q# Hello World"
   ]
  },
  {
   "cell_type": "code",
   "execution_count": 6,
   "metadata": {
    "slideshow": {
     "slide_type": "-"
    }
   },
   "outputs": [
    {
     "data": {
      "application/json": "[\"Greeting\"]",
      "text/html": [
       "<ul><li>Greeting</li></ul>"
      ],
      "text/plain": [
       "Greeting"
      ]
     },
     "execution_count": 6,
     "metadata": {},
     "output_type": "execute_result"
    }
   ],
   "source": [
    "function Greeting(name : String) : Unit {\n",
    "    Message($\"Hello World! Nice to meet you {name} 💖\");\n",
    "}"
   ]
  },
  {
   "cell_type": "code",
   "execution_count": 7,
   "metadata": {
    "slideshow": {
     "slide_type": "-"
    }
   },
   "outputs": [
    {
     "name": "stdout",
     "output_type": "stream",
     "text": [
      "Hello World! Nice to meet you Sarah 💖\r\n"
     ]
    },
    {
     "data": {
      "application/json": "{\"@type\":\"tuple\"}",
      "text/plain": [
       "()"
      ]
     },
     "execution_count": 7,
     "metadata": {},
     "output_type": "execute_result"
    }
   ],
   "source": [
    "%simulate Greeting name=\"Sarah\""
   ]
  },
  {
   "cell_type": "markdown",
   "metadata": {
    "slideshow": {
     "slide_type": "slide"
    }
   },
   "source": [
    "## Functions + Types in Q#\n",
    "\n",
    "- Functions are ways to define determinisitc, classical calulations.\n",
    "- Q# is a strongly typed language, with a variety of built-in types and ways for you to define your own!"
   ]
  },
  {
   "cell_type": "code",
   "execution_count": 1,
   "metadata": {
    "slideshow": {
     "slide_type": "-"
    }
   },
   "outputs": [
    {
     "data": {
      "application/json": "[]",
      "text/html": [
       "<ul></ul>"
      ],
      "text/plain": []
     },
     "execution_count": 1,
     "metadata": {},
     "output_type": "execute_result"
    }
   ],
   "source": [
    "// Library has the definition of the Complex type we use below.\n",
    "open Microsoft.Quantum.Math;"
   ]
  },
  {
   "cell_type": "code",
   "execution_count": 2,
   "metadata": {
    "slideshow": {
     "slide_type": "-"
    }
   },
   "outputs": [
    {
     "data": {
      "application/json": "[\"ComplexArray\"]",
      "text/html": [
       "<ul><li>ComplexArray</li></ul>"
      ],
      "text/plain": [
       "ComplexArray"
      ]
     },
     "execution_count": 2,
     "metadata": {},
     "output_type": "execute_result"
    }
   ],
   "source": [
    "// A user defined type for an array of complex numbers.\n",
    "newtype ComplexArray = (Count : Int, Values : Complex[]);"
   ]
  },
  {
   "cell_type": "code",
   "execution_count": 3,
   "metadata": {
    "slideshow": {
     "slide_type": "slide"
    }
   },
   "outputs": [
    {
     "data": {
      "application/json": "[\"AsComplexArray\",\"ConvertedData\"]",
      "text/html": [
       "<ul><li>AsComplexArray</li><li>ConvertedData</li></ul>"
      ],
      "text/plain": [
       "AsComplexArray, ConvertedData"
      ]
     },
     "execution_count": 3,
     "metadata": {},
     "output_type": "execute_result"
    }
   ],
   "source": [
    "// Converts an array of real numbers to a ComplexArray\n",
    "function AsComplexArray(data : Double[]) : ComplexArray {\n",
    "\n",
    "    // Start with a new ComplexArray to put your results in\n",
    "    mutable results = ComplexArray(0, new Complex[0]);\n",
    "\n",
    "    for (item in data) {\n",
    "        // update-and-reassign statement\n",
    "        set results w/= Values <- results::Values + [Complex(item, 0.)]; \n",
    "    }\n",
    "    \n",
    "    // Return the results with the Count named item filled out\n",
    "    return results w/ Count <- Length(results::Values); \n",
    "}\n",
    "\n",
    "function ConvertedData() : ComplexArray {\n",
    "    let data = [1.0, 2.0, 3.0];\n",
    "    return AsComplexArray(data);\n",
    "}"
   ]
  },
  {
   "cell_type": "code",
   "execution_count": 4,
   "metadata": {
    "slideshow": {
     "slide_type": "-"
    }
   },
   "outputs": [
    {
     "data": {
      "application/json": "{\"@type\":\"SNIPPET.ComplexArray\",\"Item1\":3,\"Item2\":[{\"@type\":\"Microsoft.Quantum.Math.Complex\",\"Item1\":1.0,\"Item2\":0.0},{\"@type\":\"Microsoft.Quantum.Math.Complex\",\"Item1\":2.0,\"Item2\":0.0},{\"@type\":\"Microsoft.Quantum.Math.Complex\",\"Item1\":3.0,\"Item2\":0.0}]}",
      "text/plain": [
       "ComplexArray((3, [Complex((1, 0)),Complex((2, 0)),Complex((3, 0))]))"
      ]
     },
     "execution_count": 4,
     "metadata": {},
     "output_type": "execute_result"
    }
   ],
   "source": [
    "%simulate ConvertedData"
   ]
  },
  {
   "cell_type": "markdown",
   "metadata": {
    "slideshow": {
     "slide_type": "slide"
    }
   },
   "source": [
    "## `using` Qubits in Q#\n",
    "\n",
    "- Qubits are a resource that are requested from the runtime when you need them and returned when you are done."
   ]
  },
  {
   "cell_type": "code",
   "execution_count": 16,
   "metadata": {
    "slideshow": {
     "slide_type": "-"
    }
   },
   "outputs": [
    {
     "data": {
      "application/json": "[]",
      "text/html": [
       "<ul></ul>"
      ],
      "text/plain": []
     },
     "execution_count": 16,
     "metadata": {},
     "output_type": "execute_result"
    }
   ],
   "source": [
    "open Microsoft.Quantum.Measurement;"
   ]
  },
  {
   "cell_type": "code",
   "execution_count": 17,
   "metadata": {
    "slideshow": {
     "slide_type": "-"
    }
   },
   "outputs": [
    {
     "data": {
      "application/json": "[\"Qrng\"]",
      "text/html": [
       "<ul><li>Qrng</li></ul>"
      ],
      "text/plain": [
       "Qrng"
      ]
     },
     "execution_count": 17,
     "metadata": {},
     "output_type": "execute_result"
    }
   ],
   "source": [
    "operation Qrng() : Result {\n",
    "        using (qubit = Qubit()) {   // Preparing the qubit\n",
    "            H(qubit);               // Do operation H\n",
    "            return MResetZ(qubit);  // Measure and reset qubit\n",
    "        }\n",
    "    }"
   ]
  },
  {
   "cell_type": "code",
   "execution_count": 18,
   "metadata": {
    "slideshow": {
     "slide_type": "-"
    }
   },
   "outputs": [
    {
     "data": {
      "application/json": "0",
      "text/plain": [
       "Zero"
      ]
     },
     "execution_count": 18,
     "metadata": {},
     "output_type": "execute_result"
    }
   ],
   "source": [
    "%simulate Qrng"
   ]
  },
  {
   "cell_type": "markdown",
   "metadata": {
    "slideshow": {
     "slide_type": "slide"
    }
   },
   "source": [
    "## Generating new operations in Q#"
   ]
  },
  {
   "cell_type": "markdown",
   "metadata": {
    "slideshow": {
     "slide_type": "-"
    }
   },
   "source": [
    "The _functors_ `Adjoint` and `Controlled` allow you to generate new operations without changes to your code to implement those versions."
   ]
  },
  {
   "cell_type": "code",
   "execution_count": 20,
   "metadata": {
    "slideshow": {
     "slide_type": "-"
    }
   },
   "outputs": [
    {
     "data": {
      "application/json": "[\"ApplyX\",\"ApplyMultiControlNOT\"]",
      "text/html": [
       "<ul><li>ApplyX</li><li>ApplyMultiControlNOT</li></ul>"
      ],
      "text/plain": [
       "ApplyX, ApplyMultiControlNOT"
      ]
     },
     "execution_count": 20,
     "metadata": {},
     "output_type": "execute_result"
    }
   ],
   "source": [
    "operation ApplyX(qubit : Qubit) : Unit is Adj + Ctl {\n",
    "    X(qubit);\n",
    "}\n",
    "\n",
    "operation ApplyMultiControlNOT(control: Qubit[], target : Qubit) : Unit is Adj + Ctl {\n",
    "    Controlled ApplyX(control, target);\n",
    "}"
   ]
  },
  {
   "cell_type": "code",
   "execution_count": 7,
   "metadata": {
    "slideshow": {
     "slide_type": "slide"
    }
   },
   "outputs": [
    {
     "data": {
      "application/json": "[\"UseCtlFunctor\"]",
      "text/html": [
       "<ul><li>UseCtlFunctor</li></ul>"
      ],
      "text/plain": [
       "UseCtlFunctor"
      ]
     },
     "execution_count": 7,
     "metadata": {},
     "output_type": "execute_result"
    }
   ],
   "source": [
    "open Microsoft.Quantum.Diagnostics;\n",
    "\n",
    "operation UseCtlFunctor() : Unit {\n",
    "    using((controls, target) = (Qubit[2], Qubit())){\n",
    "        ApplyToEach(H, controls);\n",
    "        ApplyMultiControlNOT(controls, target);\n",
    "        DumpMachine();\n",
    "        ResetAll(controls + [target]);\n",
    "    }  \n",
    "}"
   ]
  },
  {
   "cell_type": "markdown",
   "metadata": {
    "slideshow": {
     "slide_type": "slide"
    }
   },
   "source": [
    "## Running Q# programs\n",
    "\n",
    "Q# programs can be run from:\n",
    "- the command line, if built as stand-alone applications\n",
    "- Python or .NET language programs (C#, F#, etc.) for easy data processing and visualization\n",
    "- Jupyter notebooks with either Q# or Python kernels\n"
   ]
  },
  {
   "cell_type": "code",
   "execution_count": 10,
   "metadata": {
    "slideshow": {
     "slide_type": "-"
    }
   },
   "outputs": [
    {
     "data": {
      "application/json": "{\"QubitIds\":[0,1,2],\"NQubits\":3,\"Amplitudes\":[{\"Real\":0.5000000000000001,\"Imaginary\":0.0,\"Magnitude\":0.5000000000000001,\"Phase\":0.0},{\"Real\":0.5000000000000001,\"Imaginary\":0.0,\"Magnitude\":0.5000000000000001,\"Phase\":0.0},{\"Real\":0.5000000000000001,\"Imaginary\":0.0,\"Magnitude\":0.5000000000000001,\"Phase\":0.0},{\"Real\":0.0,\"Imaginary\":0.0,\"Magnitude\":0.0,\"Phase\":0.0},{\"Real\":0.0,\"Imaginary\":0.0,\"Magnitude\":0.0,\"Phase\":0.0},{\"Real\":0.0,\"Imaginary\":0.0,\"Magnitude\":0.0,\"Phase\":0.0},{\"Real\":0.0,\"Imaginary\":0.0,\"Magnitude\":0.0,\"Phase\":0.0},{\"Real\":0.5000000000000001,\"Imaginary\":0.0,\"Magnitude\":0.5000000000000001,\"Phase\":0.0}]}",
      "text/html": [
       "\r\n",
       "                    <table style=\"table-layout: fixed; width: 100%\">\r\n",
       "                        <thead>\r\n",
       "                            \r\n",
       "                        <tr>\r\n",
       "                            <th>Qubit IDs</th>\r\n",
       "                            <td span=\"3\">0, 1, 2</td>\r\n",
       "                        </tr>\r\n",
       "                    \r\n",
       "                            <tr>\r\n",
       "                                <th style=\"width: 20ch)\">Basis state (bitstring)</th>\r\n",
       "                                <th style=\"width: 20ch\">Amplitude</th>\r\n",
       "                                <th style=\"width: calc(100% - 26ch - 20ch)\">Meas. Pr.</th>\r\n",
       "                                <th style=\"width: 6ch\">Phase</th>\r\n",
       "                            </tr>\r\n",
       "                        </thead>\r\n",
       "\r\n",
       "                        <tbody>\r\n",
       "                            \r\n",
       "                            <tr>\r\n",
       "                                <td>$\\left|000\\right\\rangle$</td>\r\n",
       "                                <td>$0.5000 + 0.0000 i$</td>\r\n",
       "                                <td>\r\n",
       "                                    <progress\r\n",
       "                                        max=\"100\"\r\n",
       "                                        value=\"25.00000000000001\"\r\n",
       "                                        style=\"width: 100%;\"\r\n",
       "                                    >\r\n",
       "                                </td>\r\n",
       "                                \r\n",
       "                                <td style=\"transform: rotate(0deg);\r\n",
       "                   text-align: center;\">\r\n",
       "                                 ↑\r\n",
       "                                </td>\r\n",
       "                            \r\n",
       "                            </tr>\r\n",
       "                        \n",
       "\r\n",
       "                            <tr>\r\n",
       "                                <td>$\\left|001\\right\\rangle$</td>\r\n",
       "                                <td>$0.0000 + 0.0000 i$</td>\r\n",
       "                                <td>\r\n",
       "                                    <progress\r\n",
       "                                        max=\"100\"\r\n",
       "                                        value=\"0\"\r\n",
       "                                        style=\"width: 100%;\"\r\n",
       "                                    >\r\n",
       "                                </td>\r\n",
       "                                \r\n",
       "                                <td style=\"transform: rotate(0deg);\r\n",
       "                   text-align: center;\">\r\n",
       "                                 ↑\r\n",
       "                                </td>\r\n",
       "                            \r\n",
       "                            </tr>\r\n",
       "                        \n",
       "\r\n",
       "                            <tr>\r\n",
       "                                <td>$\\left|010\\right\\rangle$</td>\r\n",
       "                                <td>$0.5000 + 0.0000 i$</td>\r\n",
       "                                <td>\r\n",
       "                                    <progress\r\n",
       "                                        max=\"100\"\r\n",
       "                                        value=\"25.00000000000001\"\r\n",
       "                                        style=\"width: 100%;\"\r\n",
       "                                    >\r\n",
       "                                </td>\r\n",
       "                                \r\n",
       "                                <td style=\"transform: rotate(0deg);\r\n",
       "                   text-align: center;\">\r\n",
       "                                 ↑\r\n",
       "                                </td>\r\n",
       "                            \r\n",
       "                            </tr>\r\n",
       "                        \n",
       "\r\n",
       "                            <tr>\r\n",
       "                                <td>$\\left|011\\right\\rangle$</td>\r\n",
       "                                <td>$0.0000 + 0.0000 i$</td>\r\n",
       "                                <td>\r\n",
       "                                    <progress\r\n",
       "                                        max=\"100\"\r\n",
       "                                        value=\"0\"\r\n",
       "                                        style=\"width: 100%;\"\r\n",
       "                                    >\r\n",
       "                                </td>\r\n",
       "                                \r\n",
       "                                <td style=\"transform: rotate(0deg);\r\n",
       "                   text-align: center;\">\r\n",
       "                                 ↑\r\n",
       "                                </td>\r\n",
       "                            \r\n",
       "                            </tr>\r\n",
       "                        \n",
       "\r\n",
       "                            <tr>\r\n",
       "                                <td>$\\left|100\\right\\rangle$</td>\r\n",
       "                                <td>$0.5000 + 0.0000 i$</td>\r\n",
       "                                <td>\r\n",
       "                                    <progress\r\n",
       "                                        max=\"100\"\r\n",
       "                                        value=\"25.00000000000001\"\r\n",
       "                                        style=\"width: 100%;\"\r\n",
       "                                    >\r\n",
       "                                </td>\r\n",
       "                                \r\n",
       "                                <td style=\"transform: rotate(0deg);\r\n",
       "                   text-align: center;\">\r\n",
       "                                 ↑\r\n",
       "                                </td>\r\n",
       "                            \r\n",
       "                            </tr>\r\n",
       "                        \n",
       "\r\n",
       "                            <tr>\r\n",
       "                                <td>$\\left|101\\right\\rangle$</td>\r\n",
       "                                <td>$0.0000 + 0.0000 i$</td>\r\n",
       "                                <td>\r\n",
       "                                    <progress\r\n",
       "                                        max=\"100\"\r\n",
       "                                        value=\"0\"\r\n",
       "                                        style=\"width: 100%;\"\r\n",
       "                                    >\r\n",
       "                                </td>\r\n",
       "                                \r\n",
       "                                <td style=\"transform: rotate(0deg);\r\n",
       "                   text-align: center;\">\r\n",
       "                                 ↑\r\n",
       "                                </td>\r\n",
       "                            \r\n",
       "                            </tr>\r\n",
       "                        \n",
       "\r\n",
       "                            <tr>\r\n",
       "                                <td>$\\left|110\\right\\rangle$</td>\r\n",
       "                                <td>$0.0000 + 0.0000 i$</td>\r\n",
       "                                <td>\r\n",
       "                                    <progress\r\n",
       "                                        max=\"100\"\r\n",
       "                                        value=\"0\"\r\n",
       "                                        style=\"width: 100%;\"\r\n",
       "                                    >\r\n",
       "                                </td>\r\n",
       "                                \r\n",
       "                                <td style=\"transform: rotate(0deg);\r\n",
       "                   text-align: center;\">\r\n",
       "                                 ↑\r\n",
       "                                </td>\r\n",
       "                            \r\n",
       "                            </tr>\r\n",
       "                        \n",
       "\r\n",
       "                            <tr>\r\n",
       "                                <td>$\\left|111\\right\\rangle$</td>\r\n",
       "                                <td>$0.5000 + 0.0000 i$</td>\r\n",
       "                                <td>\r\n",
       "                                    <progress\r\n",
       "                                        max=\"100\"\r\n",
       "                                        value=\"25.00000000000001\"\r\n",
       "                                        style=\"width: 100%;\"\r\n",
       "                                    >\r\n",
       "                                </td>\r\n",
       "                                \r\n",
       "                                <td style=\"transform: rotate(0deg);\r\n",
       "                   text-align: center;\">\r\n",
       "                                 ↑\r\n",
       "                                </td>\r\n",
       "                            \r\n",
       "                            </tr>\r\n",
       "                        \r\n",
       "                        </tbody>\r\n",
       "                    </table>\r\n",
       "                "
      ],
      "text/plain": [
       "|000⟩\t0.5000000000000001 + 0𝑖\n",
       "|001⟩\t0 + 0𝑖\n",
       "|010⟩\t0.5000000000000001 + 0𝑖\n",
       "|011⟩\t0 + 0𝑖\n",
       "|100⟩\t0.5000000000000001 + 0𝑖\n",
       "|101⟩\t0 + 0𝑖\n",
       "|110⟩\t0 + 0𝑖\n",
       "|111⟩\t0.5000000000000001 + 0𝑖"
      ]
     },
     "metadata": {},
     "output_type": "display_data"
    },
    {
     "data": {
      "application/json": "{\"@type\":\"tuple\"}",
      "text/plain": [
       "()"
      ]
     },
     "execution_count": 10,
     "metadata": {},
     "output_type": "execute_result"
    }
   ],
   "source": [
    "%simulate UseCtlFunctor"
   ]
  },
  {
   "cell_type": "markdown",
   "metadata": {
    "slideshow": {
     "slide_type": "slide"
    }
   },
   "source": [
    "## More than just simulation..."
   ]
  },
  {
   "cell_type": "code",
   "execution_count": 11,
   "metadata": {
    "slideshow": {
     "slide_type": "-"
    }
   },
   "outputs": [
    {
     "data": {
      "application/json": "[{\"Name\":\"%azure.connect\",\"Documentation\":{\"Summary\":\"Connects to an Azure Quantum workspace or displays current connection status.\",\"Full\":null,\"Description\":\"\\r\\nThis magic command allows for connecting to an Azure Quantum workspace\\r\\nas specified by the resource ID of the workspace or by a combination of\\r\\nsubscription ID, resource group name, and workspace name.\\r\\n\\r\\nIf the connection is successful, a list of the available Q# execution targets\\r\\nin the Azure Quantum workspace will be displayed.\\r\\n\\r\\n#### Required parameters\\r\\n\\r\\nThe Azure Quantum workspace can be identified by resource ID:\\r\\n\\r\\n- `resourceId=<string>`: The resource ID of the Azure Quantum workspace.\\r\\nThis can be obtained from the workspace page in the Azure portal. The `resourceId=` prefix\\r\\nis optional for this parameter, as long as the resource ID is valid.\\r\\n\\r\\nAlternatively, it can be identified by subscription ID, resource group name, and workspace name:\\r\\n\\r\\n- `subscription=<string>`: The Azure subscription ID for the Azure Quantum workspace.\\r\\n- `resourceGroup=<string>`: The Azure resource group name for the Azure Quantum workspace.\\r\\n- `workspace=<string>`: The name of the Azure Quantum workspace.\\r\\n\\r\\n#### Optional parameters\\r\\n\\r\\n- `refresh`: Bypasses any saved or cached credentials when connecting to Azure.\\r\\n- `storage=<string>`: The connection string to the Azure storage\\r\\naccount. Required if the specified Azure Quantum workspace was not linked to a storage\\r\\naccount at workspace creation time.\\r\\n\\r\\n#### Possible errors\\r\\n\\r\\n- `WorkspaceNotFound`: No Azure Quantum workspace was found that matches the specified criteria.\\r\\n- `AuthenticationFailed`: Failed to authenticate to the specified Azure Quantum workspace.\\r\\n                    \",\"Remarks\":null,\"Examples\":[\"\\r\\nConnect to an Azure Quantum workspace using its resource ID:\\r\\n```\\r\\nIn []: %azure.connect \\\"/subscriptions/.../Microsoft.Quantum/Workspaces/WORKSPACE_NAME\\\"\\r\\nOut[]: Connected to Azure Quantum workspace WORKSPACE_NAME.\\r\\n        <list of Q# execution targets available in the Azure Quantum workspace>\\r\\n```\\r\\n                        \",\"\\r\\nConnect to an Azure Quantum workspace using its resource ID and a storage account connection string:\\r\\n```\\r\\nIn []: %azure.connect resourceId=\\\"/subscriptions/.../Microsoft.Quantum/Workspaces/WORKSPACE_NAME\\\"\\r\\n                        storage=\\\"STORAGE_ACCOUNT_CONNECTION_STRING\\\"\\r\\nOut[]: Connected to Azure Quantum workspace WORKSPACE_NAME.\\r\\n        <list of Q# execution targets available in the Azure Quantum workspace>\\r\\n```\\r\\n                        \",\"\\r\\nConnect to an Azure Quantum workspace using individual subscription ID, resource group name, and workspace name parameters:\\r\\n```\\r\\nIn []: %azure.connect subscription=\\\"SUBSCRIPTION_ID\\\"\\r\\n                        resourceGroup=\\\"RESOURCE_GROUP_NAME\\\"\\r\\n                        workspace=\\\"WORKSPACE_NAME\\\"\\r\\n                        storage=\\\"STORAGE_ACCOUNT_CONNECTION_STRING\\\"\\r\\nOut[]: Connected to Azure Quantum workspace WORKSPACE_NAME.\\r\\n        <list of Q# execution targets available in the Azure Quantum workspace>\\r\\n```\\r\\n                        \",\"\\r\\nConnect to an Azure Quantum workspace and force a credential prompt using\\r\\nthe `refresh` option:\\r\\n```\\r\\nIn []: %azure.connect refresh \\\"/subscriptions/.../Microsoft.Quantum/Workspaces/WORKSPACE_NAME\\\"\\r\\nOut[]: To sign in, use a web browser to open the page https://microsoft.com/devicelogin\\r\\n        and enter the code [login code] to authenticate.\\r\\n        Connected to Azure Quantum workspace WORKSPACE_NAME.\\r\\n        <list of Q# execution targets available in the Azure Quantum workspace>\\r\\n```\\r\\n                        \",\"\\r\\nPrint information about the currently-connected Azure Quantum workspace:\\r\\n```\\r\\nIn []: %azure.connect\\r\\nOut[]: Connected to Azure Quantum workspace WORKSPACE_NAME.\\r\\n        <list of Q# execution targets available in the Azure Quantum workspace>\\r\\n```\\r\\n                        \"],\"SeeAlso\":null},\"AssemblyName\":\"Microsoft.Quantum.IQSharp.AzureClient\"},{\"Name\":\"%azure.execute\",\"Documentation\":{\"Summary\":\"Executes a job in an Azure Quantum workspace.\",\"Full\":null,\"Description\":\"\\r\\nThis magic command allows for executing a Q# operation or function\\r\\non the specified target in the current Azure Quantum workspace.\\r\\nThe command waits a specified amount of time for the job to complete before returning.\\r\\n\\r\\nThe Azure Quantum workspace must have been previously initialized\\r\\nusing the [`%azure.connect` magic command](https://docs.microsoft.com/qsharp/api/iqsharp-magic/azure.connect),\\r\\nand an execution target for the job must have been specified using the\\r\\n[`%azure.target` magic command](https://docs.microsoft.com/qsharp/api/iqsharp-magic/azure.target).\\r\\n\\r\\n#### Required parameters\\r\\n\\r\\n- Q# operation or function name. This must be the first parameter, and must be a valid Q# operation\\r\\nor function name that has been defined either in the notebook or in a Q# file in the same folder.\\r\\n- Arguments for the Q# operation or function must also be specified as `key=value` pairs.\\r\\n\\r\\n#### Optional parameters\\r\\n\\r\\n- `jobName=<string>`: Friendly name to identify this job. If not specified,\\r\\nthe Q# operation or function name will be used as the job name.\\r\\n- `shots=<integer>` (default=500): Number of times to repeat execution of the\\r\\nspecified Q# operation or function.\\r\\n- `timeout=<integer>` (default=30): Time to wait (in seconds) for job completion\\r\\nbefore the magic command returns.\\r\\n- `poll=<integer>` (default=5): Interval (in seconds) to poll for\\r\\njob status while waiting for job execution to complete.\\r\\n\\r\\n#### Possible errors\\r\\n\\r\\n- `NotConnected`: Not connected to any Azure Quantum workspace.\\r\\n- `NoTarget`: No execution target has been configured for Azure Quantum job submission.\\r\\n- `NoOperationName`: No Q# operation name was specified for Azure Quantum job submission.\\r\\n- `InvalidTarget`: The specified execution target is not valid for Q# job submission in the current Azure Quantum workspace.\\r\\n- `UnrecognizedOperationName`: The specified Q# operation name was not recognized.\\r\\n- `InvalidEntryPoint`: The specified Q# operation cannot be used as an entry point for Azure Quantum job submission.\\r\\n- `JobSubmissionFailed`: Failed to submit the job to the Azure Quantum workspace.\\r\\n- `JobNotCompleted`: The specified Azure Quantum job has not yet completed.\\r\\n- `JobOutputDownloadFailed`: Failed to download results for the specified Azure Quantum job.\\r\\n                    \",\"Remarks\":null,\"Examples\":[\"\\r\\nExecute a Q# operation defined as `operation MyOperation(a : Int, b : Int) : Result`\\r\\non the active target in the current Azure Quantum workspace:\\r\\n```\\r\\nIn []: %azure.execute MyOperation a=5 b=10\\r\\nOut[]: Submitting MyOperation to target provider.qpu...\\r\\n       Job successfully submitted for 500 shots.\\r\\n          Job name: MyOperation\\r\\n          Job ID: <Azure Quantum job ID>\\r\\n       Waiting up to 30 seconds for Azure Quantum job to complete...\\r\\n       [1:23:45 PM] Current job status: Waiting\\r\\n       [1:23:50 PM] Current job status: Executing\\r\\n       [1:23:55 PM] Current job status: Succeeded\\r\\n       <detailed results of completed job>\\r\\n```\\r\\n                        \",\"\\r\\nExecute a Q# operation defined as `operation MyOperation(a : Int, b : Int) : Result`\\r\\non the active target in the current Azure Quantum workspace,\\r\\nspecifying a custom job name, number of shots, timeout, and polling interval:\\r\\n```\\r\\nIn []: %azure.submit MyOperation a=5 b=10 jobName=\\\"My job\\\" shots=100 timeout=60 poll=10\\r\\nOut[]: Submitting MyOperation to target provider.qpu...\\r\\n       Job successfully submitted for 100 shots.\\r\\n          Job name: My job\\r\\n          Job ID: <Azure Quantum job ID>\\r\\n       Waiting up to 60 seconds for Azure Quantum job to complete...\\r\\n       [1:23:45 PM] Current job status: Waiting\\r\\n       [1:23:55 PM] Current job status: Waiting\\r\\n       [1:24:05 PM] Current job status: Executing\\r\\n       [1:24:15 PM] Current job status: Succeeded\\r\\n       <detailed results of completed job>\\r\\n```\\r\\n                        \"],\"SeeAlso\":null},\"AssemblyName\":\"Microsoft.Quantum.IQSharp.AzureClient\"},{\"Name\":\"%azure.jobs\",\"Documentation\":{\"Summary\":\"Displays a list of jobs in the current Azure Quantum workspace.\",\"Full\":null,\"Description\":\"\\r\\nThis magic command allows for displaying the list of jobs in the current \\r\\nAzure Quantum workspace, optionally filtering the list to jobs which\\r\\nhave an ID, name, or target containing the provided filter parameter.\\r\\n\\r\\nThe Azure Quantum workspace must have been previously initialized\\r\\nusing the [`%azure.connect` magic command](https://docs.microsoft.com/qsharp/api/iqsharp-magic/azure.connect).\\r\\n\\r\\n#### Optional parameters\\r\\n\\r\\n- A string to filter the list of jobs. Jobs which have an ID, name, or target\\r\\ncontaining the provided filter parameter will be displayed. If not specified,\\r\\nall recent jobs are displayed.\\r\\n\\r\\n#### Possible errors\\r\\n\\r\\n- `NotConnected`: Not connected to any Azure Quantum workspace.\\r\\n                    \",\"Remarks\":null,\"Examples\":[\"\\r\\nGet the list of jobs:\\r\\n```\\r\\nIn []: %azure.jobs\\r\\nOut[]: <detailed status of all recent jobs in the workspace>\\r\\n```\\r\\n                        \",\"\\r\\nGet the list of jobs whose ID, name, or target contains \\\"My job\\\":\\r\\n```\\r\\nIn []: %azure.jobs \\\"My job\\\"\\r\\nOut[]: <detailed status of matching jobs in the workspace>\\r\\n```\\r\\n                        \"],\"SeeAlso\":null},\"AssemblyName\":\"Microsoft.Quantum.IQSharp.AzureClient\"},{\"Name\":\"%azure.output\",\"Documentation\":{\"Summary\":\"Displays results for a job in the current Azure Quantum workspace.\",\"Full\":null,\"Description\":\"\\r\\nThis magic command allows for displaying results for a job in the current \\r\\nAzure Quantum workspace.\\r\\nThe job execution must already be completed in order to display\\r\\nresults.\\r\\n\\r\\nThe Azure Quantum workspace must have been previously initialized\\r\\nusing the [`%azure.connect` magic command](https://docs.microsoft.com/qsharp/api/iqsharp-magic/azure.connect).\\r\\n\\r\\n#### Optional parameters\\r\\n\\r\\n- The job ID for which to display results. If not specified, the job ID from\\r\\nthe most recent call to [`%azure.submit`](https://docs.microsoft.com/qsharp/api/iqsharp-magic/azure.submit)\\r\\nor [`%azure.execute`](https://docs.microsoft.com/qsharp/api/iqsharp-magic/azure.execute) will be used.\\r\\n\\r\\n#### Possible errors\\r\\n\\r\\n- `NotConnected`: Not connected to any Azure Quantum workspace.\\r\\n- `JobNotFound`: No job with the given ID was found in the current Azure Quantum workspace.\\r\\n- `JobNotCompleted`: The specified Azure Quantum job has not yet completed.\\r\\n- `JobOutputDownloadFailed`: Failed to download results for the specified Azure Quantum job.\\r\\n                    \",\"Remarks\":null,\"Examples\":[\"\\r\\nGet results of a specific job:\\r\\n```\\r\\nIn []: %azure.output JOB_ID\\r\\nOut[]: <detailed results of specified job>\\r\\n```\\r\\n                        \",\"\\r\\nGet results of the most recently submitted job:\\r\\n```\\r\\nIn []: %azure.output\\r\\nOut[]: <detailed results of most recently submitted job>\\r\\n```\\r\\n                        \"],\"SeeAlso\":null},\"AssemblyName\":\"Microsoft.Quantum.IQSharp.AzureClient\"},{\"Name\":\"%azure.status\",\"Documentation\":{\"Summary\":\"Displays status for a job in the current Azure Quantum workspace.\",\"Full\":null,\"Description\":\"\\r\\nThis magic command allows for displaying status for a job in the current \\r\\nAzure Quantum workspace.\\r\\n\\r\\nThe Azure Quantum workspace must have been previously initialized\\r\\nusing the [`%azure.connect` magic command](https://docs.microsoft.com/qsharp/api/iqsharp-magic/azure.connect).\\r\\n\\r\\n#### Optional parameters\\r\\n\\r\\n- The job ID for which to display status. If not specified, the job ID from\\r\\nthe most recent call to [`%azure.submit`](https://docs.microsoft.com/qsharp/api/iqsharp-magic/azure.submit)\\r\\nor [`%azure.execute`](https://docs.microsoft.com/qsharp/api/iqsharp-magic/azure.execute) will be used.\\r\\n\\r\\n#### Possible errors\\r\\n\\r\\n- `NotConnected`: Not connected to any Azure Quantum workspace.\\r\\n- `JobNotFound`: No job with the given ID was found in the current Azure Quantum workspace.\\r\\n                    \",\"Remarks\":null,\"Examples\":[\"\\r\\nGet the status of a specific job:\\r\\n```\\r\\nIn []: %azure.status JOB_ID\\r\\nOut[]: <detailed status of specified job>\\r\\n```\\r\\n                        \",\"\\r\\nGet the status of the most recently submitted job:\\r\\n```\\r\\nIn []: %azure.status\\r\\nOut[]: <detailed status of most recently submitted job>\\r\\n```\\r\\n                        \"],\"SeeAlso\":null},\"AssemblyName\":\"Microsoft.Quantum.IQSharp.AzureClient\"},{\"Name\":\"%azure.submit\",\"Documentation\":{\"Summary\":\"Submits a job to an Azure Quantum workspace.\",\"Full\":null,\"Description\":\"\\r\\nThis magic command allows for submitting a Q# operation or function\\r\\nfor execution on the specified target in the current Azure Quantum workspace.\\r\\nThe command returns immediately after the job is submitted.\\r\\n\\r\\nThe Azure Quantum workspace must have been previously initialized\\r\\nusing the [`%azure.connect` magic command](https://docs.microsoft.com/qsharp/api/iqsharp-magic/azure.connect),\\r\\nand an execution target for the job must have been specified using the\\r\\n[`%azure.target` magic command](https://docs.microsoft.com/qsharp/api/iqsharp-magic/azure.target).\\r\\n\\r\\n#### Required parameters\\r\\n\\r\\n- Q# operation or function name. This must be the first parameter, and must be a valid Q# operation\\r\\nor function name that has been defined either in the notebook or in a Q# file in the same folder.\\r\\n- Arguments for the Q# operation or function must also be specified as `key=value` pairs.\\r\\n\\r\\n#### Optional parameters\\r\\n\\r\\n- `jobName=<string>`: Friendly name to identify this job. If not specified,\\r\\nthe Q# operation or function name will be used as the job name.\\r\\n- `shots=<integer>` (default=500): Number of times to repeat execution of the\\r\\nspecified Q# operation or function.\\r\\n\\r\\n#### Possible errors\\r\\n\\r\\n- `NotConnected`: Not connected to any Azure Quantum workspace.\\r\\n- `NoTarget`: No execution target has been configured for Azure Quantum job submission.\\r\\n- `NoOperationName`: No Q# operation name was specified for Azure Quantum job submission.\\r\\n- `InvalidTarget`: The specified execution target is not valid for Q# job submission in the current Azure Quantum workspace.\\r\\n- `UnrecognizedOperationName`: The specified Q# operation name was not recognized.\\r\\n- `InvalidEntryPoint`: The specified Q# operation cannot be used as an entry point for Azure Quantum job submission.\\r\\n- `JobSubmissionFailed`: Failed to submit the job to the Azure Quantum workspace.\\r\\n                    \",\"Remarks\":null,\"Examples\":[\"\\r\\nSubmit a Q# operation defined as `operation MyOperation(a : Int, b : Int) : Result`\\r\\nfor execution on the active target in the current Azure Quantum workspace:\\r\\n```\\r\\nIn []: %azure.submit MyOperation a=5 b=10\\r\\nOut[]: Submitting MyOperation to target provider.qpu...\\r\\n       Job successfully submitted for 500 shots.\\r\\n          Job name: MyOperation\\r\\n          Job ID: <Azure Quantum job ID>\\r\\n       <detailed properties of submitted job>\\r\\n```\\r\\n                        \",\"\\r\\nSubmit a Q# operation defined as `operation MyOperation(a : Int, b : Int) : Result`\\r\\nfor execution on the active target in the current Azure Quantum workspace,\\r\\nspecifying a custom job name, number of shots, timeout, and polling interval:\\r\\n```\\r\\nIn []: %azure.submit MyOperation a=5 b=10 jobName=\\\"My job\\\" shots=100\\r\\nOut[]: Submitting MyOperation to target provider.qpu...\\r\\n       Job successfully submitted for 100 shots.\\r\\n          Job name: My job\\r\\n          Job ID: <Azure Quantum job ID>\\r\\n       <detailed properties of submitted job>\\r\\n```\\r\\n                        \"],\"SeeAlso\":null},\"AssemblyName\":\"Microsoft.Quantum.IQSharp.AzureClient\"},{\"Name\":\"%azure.target\",\"Documentation\":{\"Summary\":\"Sets or displays the active execution target for Q# job submission in an Azure Quantum workspace.\",\"Full\":null,\"Description\":\"\\r\\nThis magic command allows for specifying or displaying the execution target for Q# job submission\\r\\nin an Azure Quantum workspace.\\r\\n\\r\\nThe Azure Quantum workspace must have been previously initialized\\r\\nusing the [`%azure.connect` magic command](https://docs.microsoft.com/qsharp/api/iqsharp-magic/azure.connect)\\r\\nmagic command. The specified execution target must be available in the workspace and support execution of Q# programs.\\r\\n\\r\\n#### Optional parameters\\r\\n\\r\\n- The target ID to set as the active execution target for Q# job submission. If not specified,\\r\\nthe currently active execution target is displayed.\\r\\n\\r\\n#### Possible errors\\r\\n\\r\\n- `NotConnected`: Not connected to any Azure Quantum workspace.\\r\\n- `InvalidTarget`: The specified execution target is not valid for Q# job submission in the current Azure Quantum workspace.\\r\\n- `NoTarget`: No execution target has been configured for Azure Quantum job submission.\\r\\n                    \",\"Remarks\":null,\"Examples\":[\"\\r\\nSet the current target for Q# job submission to `provider.qpu`:\\r\\n```\\r\\nIn []: %azure.target provider.qpu\\r\\nOut[]: Loading package Microsoft.Quantum.Providers.Provider and dependencies...\\r\\n       Active target is now provider.qpu\\r\\n       <detailed properties of active execution target>\\r\\n```\\r\\n                        \",\"\\r\\nDisplay the current target and all available targets in the current Azure Quantum workspace:\\r\\n```\\r\\nIn []: %azure.target\\r\\nOut[]: Current execution target: provider.qpu\\r\\n       Available execution targets: provider.qpu, provider.simulator\\r\\n       <detailed properties of active execution target>\\r\\n```\\r\\n                        \"],\"SeeAlso\":null},\"AssemblyName\":\"Microsoft.Quantum.IQSharp.AzureClient\"},{\"Name\":\"%config\",\"Documentation\":{\"Summary\":\"Allows setting or querying configuration options.\",\"Full\":null,\"Description\":\"\\r\\nThis magic command allows for setting or querying\\r\\nconfiguration options used to control the behavior of the\\r\\nIQ# kernel (such as state visualization options). It also\\r\\nallows for saving those options to a JSON file in the current\\r\\nworking directory (using the `--save` option).\\r\\n\\r\\n#### Configuration settings\\r\\n\\r\\n**`dump.basisStateLabelingConvention`**\\r\\n\\r\\n**Value:** `\\\"LittleEndian\\\"` (default), `\\\"BigEndian\\\"`, or `\\\"Bitstring\\\"`\\r\\n\\r\\nThe convention to be used when labeling computational\\r\\nbasis states in output from callables such as `DumpMachine` or `DumpRegister`.\\r\\n\\r\\n**`dump.truncateSmallAmplitudes`**\\r\\n\\r\\n**Value:** `true` or `false` (default)\\r\\n\\r\\nHides basis states of a state vector whose measurement probabilities\\r\\n(i.e., squared amplitudes) are smaller than a particular threshold, as determined by\\r\\nthe `dump.truncationThreshold` setting.\\r\\n\\r\\n**`dump.truncationThreshold`**\\r\\n\\r\\n**Value:** floating point number such as `0.001` or `1E-8` (default `1E-10`)\\r\\n\\r\\nIf `dump.truncateSmallAmplitudes` is set to `true`, determines the\\r\\nthreshold for measurement probabilities (i.e., squared amplitudes) below which to hide the display\\r\\nof basis states of a state vector.\\r\\n\\r\\n**`dump.phaseDisplayStyle`**\\r\\n\\r\\n**Value:** `\\\"ArrowOnly\\\"` (default), `\\\"NumberOnly\\\"`, `\\\"ArrowAndNumber\\\"`, or `\\\"None\\\"`\\r\\n\\r\\nConfigures the phase visualization style in output from callables such as\\r\\n`DumpMachine` or `DumpRegister`. Supports displaying phase as arrows, numbers (in radians), both, or neither.\\r\\n                \",\"Remarks\":null,\"Examples\":[\"\\r\\nPrint a list of all currently set configuration options:\\r\\n```\\r\\nIn []: %config\\r\\nOut[]: Configuration key                 Value\\r\\n       --------------------------------- -----------\\r\\n       dump.basisStateLabelingConvention \\\"BigEndian\\\"\\r\\n       dump.truncateSmallAmplitudes      true\\r\\n```\\r\\n                    \",\"\\r\\nConfigure the `DumpMachine` and `DumpRegister` callables\\r\\nto use big-endian convention:\\r\\n```\\r\\nIn []: %config dump.basisStateLabelingConvention=\\\"BigEndian\\\"\\r\\nOut[]: \\\"BigEndian\\\"\\r\\n```\\r\\n                    \",\"\\r\\nSave current configuration options to `.iqsharp-config.json`\\r\\nin the current working directory:\\r\\n```\\r\\nIn []: %config --save\\r\\nOut[]: \\r\\n```\\r\\nNote that options saved this way will be applied automatically\\r\\nthe next time a notebook in the current working\\r\\ndirectory is loaded.\\r\\n                    \"],\"SeeAlso\":null},\"AssemblyName\":\"Microsoft.Quantum.IQSharp.Kernel\"},{\"Name\":\"%estimate\",\"Documentation\":{\"Summary\":\"Runs a given function or operation on the ResourcesEstimator target machine.\",\"Full\":null,\"Description\":\"\\r\\nThe ResourcesEstimator estimates statistics about how many resources the given\\r\\noperation needs for execution. The resources it calculates include:\\r\\n\\r\\n- Counts for each primitive operation\\r\\n- Depth (lower bound for the T-gate depth of the quantum circuit)\\r\\n- Width (lower bound for the maximum number of qubits used for the computation)\\r\\n\\r\\nSee the [ResourcesEstimator user guide](https://docs.microsoft.com/quantum/user-guide/machines/resources-estimator) to learn more.\\r\\n\\r\\n#### Required parameters\\r\\n\\r\\n- Q# operation or function name. This must be the first parameter, and must be a valid Q# operation\\r\\nor function name that has been defined either in the notebook or in a Q# file in the same folder.\\r\\n- Arguments for the Q# operation or function must also be specified as `key=value` pairs.\\r\\n                \",\"Remarks\":null,\"Examples\":[\"\\r\\nEstimate resources for a Q# operation defined as `operation MyOperation() : Result`:\\r\\n```\\r\\nIn []: %estimate MyOperation\\r\\nOut[]: Metric           Sum     \\r\\n       ---------------- ----\\r\\n       CNOT             0\\r\\n       QubitClifford    4\\r\\n       R                0\\r\\n       Measure          8\\r\\n       T                0\\r\\n       Depth            0\\r\\n       Width            4\\r\\n       BorrowedWidth    0\\r\\n```\\r\\n                    \",\"\\r\\nEstimate resources for a Q# operation defined as `operation MyOperation(a : Int, b : Int) : Result`:\\r\\n```\\r\\nIn []: %estimate MyOperation a=5 b=10\\r\\nOut[]: Metric           Sum     \\r\\n       ---------------- ----\\r\\n       CNOT             0\\r\\n       QubitClifford    4\\r\\n       R                0\\r\\n       Measure          8\\r\\n       T                0\\r\\n       Depth            0\\r\\n       Width            4\\r\\n       BorrowedWidth    0\\r\\n```\\r\\n                    \"],\"SeeAlso\":null},\"AssemblyName\":\"Microsoft.Quantum.IQSharp.Kernel\"},{\"Name\":\"%lsmagic\",\"Documentation\":{\"Summary\":\"Returns a list of all currently available magic commands.\",\"Full\":null,\"Description\":\"\\r\\nThis magic command lists all of the magic commands available in the IQ# kernel,\\r\\nas well as those defined in any packages that have been loaded in the current\\r\\nsession via the [`%package` magic command](https://docs.microsoft.com/qsharp/api/iqsharp-magic/package).\\r\\n                \",\"Remarks\":null,\"Examples\":[\"\\r\\nDisplay the list of available magic commands:\\r\\n```\\r\\nIn []: %lsmagic\\r\\nOut[]: <detailed list of all available magic commands>\\r\\n```\\r\\n                    \"],\"SeeAlso\":null},\"AssemblyName\":\"Microsoft.Quantum.IQSharp.Kernel\"},{\"Name\":\"%lsopen\",\"Documentation\":{\"Summary\":\"Lists currently opened namespaces and their aliases.\",\"Full\":null,\"Description\":\"\\r\\nThis magic command lists any namespaces that have been made\\r\\navailable using `open` statements, along with any aliases\\r\\nthat may have been assigned to those namespaces.\\r\\n                \",\"Remarks\":null,\"Examples\":[\"\\r\\nPrint a list of all currently opened namespaces:\\r\\n```\\r\\nIn []: %lsopen\\r\\nOut[]: Namespace                     Alias\\r\\n       ----------------------------- ----\\r\\n       Microsoft.Quantum.Canon\\r\\n       Microsoft.Quantum.Diagnostics Diag\\r\\n       Microsoft.Quantum.Intrinsic\\r\\n```\\r\\n                    \"],\"SeeAlso\":null},\"AssemblyName\":\"Microsoft.Quantum.IQSharp.Kernel\"},{\"Name\":\"%package\",\"Documentation\":{\"Summary\":\"Provides the ability to load a NuGet package.\",\"Full\":null,\"Description\":\"\\r\\nThis magic command allows for loading a NuGet package into the current IQ# kernel process.\\r\\nThe package must be available on the system's list of NuGet sources, which typically includes nuget.org.\\r\\nQ# operations, functions, and user-defined types defined in the loaded package,\\r\\nalong with functionality such as magic commands and result encoders,\\r\\nwill automatically become available for use in the current session.\\r\\n\\r\\nThe package can be specified by name only, or by name and version (using `name::version` syntax).\\r\\n\\r\\nIf no version is specified:\\r\\n\\r\\n- For packages that are part of the Microsoft Quantum Development Kit, IQ# will attempt to\\r\\nobtain the version of the package that matches the current IQ# version.\\r\\n- For other packages, IQ# will attempt to obtain the most recent version of the package.\\r\\n                \",\"Remarks\":null,\"Examples\":[\"\\r\\nLoad the `Microsoft.Quantum.MachineLearning` package into the current IQ# session:\\r\\n```\\r\\nIn []: %package Microsoft.Quantum.MachineLearning\\r\\nOut[]: Adding package Microsoft.Quantum.MachineLearning: done!\\r\\n       <list of all loaded packages and versions>\\r\\n```\\r\\n                    \",\"\\r\\nLoad a specific version of the `Microsoft.Quantum.Katas` package into the current IQ# session:\\r\\n```\\r\\nIn []: %package Microsoft.Quantum.Katas::0.11.2006.403\\r\\nOut[]: Adding package Microsoft.Quantum.Katas::0.11.2006.403: done!\\r\\n       <list of all loaded packages and versions>\\r\\n```\\r\\n                    \",\"\\r\\nView the list of all packages that have been loaded into the current IQ# session:\\r\\n```\\r\\nIn []: %package\\r\\nOut[]: <list of all loaded packages and versions>\\r\\n```\\r\\n                    \"],\"SeeAlso\":null},\"AssemblyName\":\"Microsoft.Quantum.IQSharp.Kernel\"},{\"Name\":\"%performance\",\"Documentation\":{\"Summary\":\"Reports current performance metrics for this kernel.\",\"Full\":null,\"Description\":\"\\r\\nReports various performance metrics for the current IQ# kernel process, including:\\r\\n\\r\\n- Managed RAM usage\\r\\n- Total RAM usage\\r\\n- Virtual memory size\\r\\n- User time\\r\\n- Total time\\r\\n                \",\"Remarks\":null,\"Examples\":[\"\\r\\nDisplay performance metrics for the current IQ# kernel process:\\r\\n```\\r\\nIn []: %performance\\r\\nOut[]: Metric                        Value\\r\\n       ----------------------------  -------------\\r\\n       Managed RAM usage (bytes)     4.985 MiB\\r\\n       Total RAM usage (bytes)       54.543 MiB\\r\\n       Virtual memory size (bytes)   2.005 TiB\\r\\n       User time                     00:00:01.109\\r\\n       Total time                    00:00:01.437\\r\\n```\\r\\n                    \"],\"SeeAlso\":null},\"AssemblyName\":\"Microsoft.Quantum.IQSharp.Kernel\"},{\"Name\":\"%simulate\",\"Documentation\":{\"Summary\":\"Runs a given function or operation on the QuantumSimulator target machine.\",\"Full\":null,\"Description\":\"\\r\\nThis magic command allows executing a given function or operation on the QuantumSimulator, \\r\\nwhich performs a full-state simulation of the given function or operation\\r\\nand prints the resulting return value.\\r\\n\\r\\nSee the [QuantumSimulator user guide](https://docs.microsoft.com/quantum/user-guide/machines/full-state-simulator) to learn more.\\r\\n\\r\\n#### Required parameters\\r\\n\\r\\n- Q# operation or function name. This must be the first parameter, and must be a valid Q# operation\\r\\nor function name that has been defined either in the notebook or in a Q# file in the same folder.\\r\\n- Arguments for the Q# operation or function must also be specified as `key=value` pairs.\\r\\n                \",\"Remarks\":null,\"Examples\":[\"\\r\\nSimulate a Q# operation defined as `operation MyOperation() : Result`:\\r\\n```\\r\\nIn []: %simulate MyOperation\\r\\nOut[]: <return value of the operation>\\r\\n```\\r\\n                    \",\"\\r\\nSimulate a Q# operation defined as `operation MyOperation(a : Int, b : Int) : Result`:\\r\\n```\\r\\nIn []: %simulate MyOperation a=5 b=10\\r\\nOut[]: <return value of the operation>\\r\\n```\\r\\n                    \"],\"SeeAlso\":null},\"AssemblyName\":\"Microsoft.Quantum.IQSharp.Kernel\"},{\"Name\":\"%toffoli\",\"Documentation\":{\"Summary\":\"Runs a given function or operation on the ToffoliSimulator target machine.\",\"Full\":null,\"Description\":\"\\r\\nThis magic command allows executing a given function or operation on the ToffoliSimulator, \\r\\nwhich performs a simulation of the given function or operation in which the state is always\\r\\na simple product state in the computational basis, and prints the resulting return value.\\r\\n\\r\\nSee the [ToffoliSimulator user guide](https://docs.microsoft.com/quantum/user-guide/machines/toffoli-simulator) to learn more.\\r\\n\\r\\n#### Required parameters\\r\\n\\r\\n- Q# operation or function name. This must be the first parameter, and must be a valid Q# operation\\r\\nor function name that has been defined either in the notebook or in a Q# file in the same folder.\\r\\n- Arguments for the Q# operation or function must also be specified as `key=value` pairs.\\r\\n                \",\"Remarks\":null,\"Examples\":[\"\\r\\nUse the ToffoliSimulator to simulate a Q# operation\\r\\ndefined as `operation MyOperation() : Result`:\\r\\n```\\r\\nIn []: %toffoli MyOperation\\r\\nOut[]: <return value of the operation>\\r\\n```\\r\\n                    \",\"\\r\\nUse the ToffoliSimulator to simulate a Q# operation\\r\\ndefined as `operation MyOperation(a : Int, b : Int) : Result`:\\r\\n```\\r\\nIn []: %toffoli MyOperation a=5 b=10\\r\\nOut[]: <return value of the operation>\\r\\n```\\r\\n                    \"],\"SeeAlso\":null},\"AssemblyName\":\"Microsoft.Quantum.IQSharp.Kernel\"},{\"Name\":\"%who\",\"Documentation\":{\"Summary\":\"Lists the Q# operations available in the current session.\",\"Full\":null,\"Description\":\"\\r\\nThis magic command returns a list of Q# operations and functions that are available\\r\\nin the current IQ# session for use with magic commands such as `%simulate`\\r\\nand `%estimate`.\\r\\n\\r\\nThe list will include Q# operations and functions which have been defined interactively\\r\\nwithin cells in the current notebook (after the cells have been executed),\\r\\nas well as any Q# operations and functions defined within .qs files in the current folder.\\r\\n                \",\"Remarks\":null,\"Examples\":[\"\\r\\nDisplay the list of Q# operations and functions available in the current session:\\r\\n```\\r\\nIn []: %who\\r\\nOut[]: <list of Q# operation and function names>\\r\\n```\\r\\n                    \"],\"SeeAlso\":null},\"AssemblyName\":\"Microsoft.Quantum.IQSharp.Kernel\"},{\"Name\":\"%workspace\",\"Documentation\":{\"Summary\":\"Provides actions related to the current workspace.\",\"Full\":null,\"Description\":\"\\r\\nThis magic command allows for displaying and reloading the Q# operations and functions\\r\\ndefined within .qs files in the current folder.\\r\\n\\r\\nIf no parameters are provided, the command displays a list of Q# operations or functions\\r\\nwithin .qs files in the current folder which are available\\r\\nin the current IQ# session for use with magic commands such as `%simulate`\\r\\nand `%estimate`.\\r\\n\\r\\nThe command will also output any errors encountered while compiling the .qs files\\r\\nin the current folder.\\r\\n\\r\\n#### Optional parameters\\r\\n\\r\\n- `reload`: Causes the IQ# kernel to recompile all .qs files in the current folder.\\r\\n                \",\"Remarks\":null,\"Examples\":[\"\\r\\nDisplay the list of Q# operations and functions available in the current folder:\\r\\n```\\r\\nIn []: %workspace\\r\\nOut[]: <list of Q# operation and function names>\\r\\n```\\r\\n                    \",\"\\r\\nRecompile the .qs files in the current folder:\\r\\n```\\r\\nIn []: %workspace reload\\r\\nOut[]: <list of Q# operation and function names>\\r\\n```\\r\\n                    \"],\"SeeAlso\":null},\"AssemblyName\":\"Microsoft.Quantum.IQSharp.Kernel\"}]",
      "text/html": [
       "<table><thead><tr><th style=\"text-align: start;\">Name</th><th style=\"text-align: start;\">Summary</th><th style=\"text-align: start;\">Assembly</th></tr></thead><tbody><tr><td style=\"text-align: start;\">%azure.connect</td><td style=\"text-align: start;\">Connects to an Azure Quantum workspace or displays current connection status.</td><td style=\"text-align: start;\">Microsoft.Quantum.IQSharp.AzureClient</td></tr><tr><td style=\"text-align: start;\">%azure.execute</td><td style=\"text-align: start;\">Executes a job in an Azure Quantum workspace.</td><td style=\"text-align: start;\">Microsoft.Quantum.IQSharp.AzureClient</td></tr><tr><td style=\"text-align: start;\">%azure.jobs</td><td style=\"text-align: start;\">Displays a list of jobs in the current Azure Quantum workspace.</td><td style=\"text-align: start;\">Microsoft.Quantum.IQSharp.AzureClient</td></tr><tr><td style=\"text-align: start;\">%azure.output</td><td style=\"text-align: start;\">Displays results for a job in the current Azure Quantum workspace.</td><td style=\"text-align: start;\">Microsoft.Quantum.IQSharp.AzureClient</td></tr><tr><td style=\"text-align: start;\">%azure.status</td><td style=\"text-align: start;\">Displays status for a job in the current Azure Quantum workspace.</td><td style=\"text-align: start;\">Microsoft.Quantum.IQSharp.AzureClient</td></tr><tr><td style=\"text-align: start;\">%azure.submit</td><td style=\"text-align: start;\">Submits a job to an Azure Quantum workspace.</td><td style=\"text-align: start;\">Microsoft.Quantum.IQSharp.AzureClient</td></tr><tr><td style=\"text-align: start;\">%azure.target</td><td style=\"text-align: start;\">Sets or displays the active execution target for Q# job submission in an Azure Quantum workspace.</td><td style=\"text-align: start;\">Microsoft.Quantum.IQSharp.AzureClient</td></tr><tr><td style=\"text-align: start;\">%config</td><td style=\"text-align: start;\">Allows setting or querying configuration options.</td><td style=\"text-align: start;\">Microsoft.Quantum.IQSharp.Kernel</td></tr><tr><td style=\"text-align: start;\">%estimate</td><td style=\"text-align: start;\">Runs a given function or operation on the ResourcesEstimator target machine.</td><td style=\"text-align: start;\">Microsoft.Quantum.IQSharp.Kernel</td></tr><tr><td style=\"text-align: start;\">%lsmagic</td><td style=\"text-align: start;\">Returns a list of all currently available magic commands.</td><td style=\"text-align: start;\">Microsoft.Quantum.IQSharp.Kernel</td></tr><tr><td style=\"text-align: start;\">%lsopen</td><td style=\"text-align: start;\">Lists currently opened namespaces and their aliases.</td><td style=\"text-align: start;\">Microsoft.Quantum.IQSharp.Kernel</td></tr><tr><td style=\"text-align: start;\">%package</td><td style=\"text-align: start;\">Provides the ability to load a NuGet package.</td><td style=\"text-align: start;\">Microsoft.Quantum.IQSharp.Kernel</td></tr><tr><td style=\"text-align: start;\">%performance</td><td style=\"text-align: start;\">Reports current performance metrics for this kernel.</td><td style=\"text-align: start;\">Microsoft.Quantum.IQSharp.Kernel</td></tr><tr><td style=\"text-align: start;\">%simulate</td><td style=\"text-align: start;\">Runs a given function or operation on the QuantumSimulator target machine.</td><td style=\"text-align: start;\">Microsoft.Quantum.IQSharp.Kernel</td></tr><tr><td style=\"text-align: start;\">%toffoli</td><td style=\"text-align: start;\">Runs a given function or operation on the ToffoliSimulator target machine.</td><td style=\"text-align: start;\">Microsoft.Quantum.IQSharp.Kernel</td></tr><tr><td style=\"text-align: start;\">%who</td><td style=\"text-align: start;\">Lists the Q# operations available in the current session.</td><td style=\"text-align: start;\">Microsoft.Quantum.IQSharp.Kernel</td></tr><tr><td style=\"text-align: start;\">%workspace</td><td style=\"text-align: start;\">Provides actions related to the current workspace.</td><td style=\"text-align: start;\">Microsoft.Quantum.IQSharp.Kernel</td></tr></tbody></table>"
      ],
      "text/plain": [
       "Name           Summary                                                                                           Assembly\r\n",
       "-------------- ------------------------------------------------------------------------------------------------- -------------------------------------\r\n",
       "%azure.connect Connects to an Azure Quantum workspace or displays current connection status.                     Microsoft.Quantum.IQSharp.AzureClient\r\n",
       "%azure.execute Executes a job in an Azure Quantum workspace.                                                     Microsoft.Quantum.IQSharp.AzureClient\r\n",
       "%azure.jobs    Displays a list of jobs in the current Azure Quantum workspace.                                   Microsoft.Quantum.IQSharp.AzureClient\r\n",
       "%azure.output  Displays results for a job in the current Azure Quantum workspace.                                Microsoft.Quantum.IQSharp.AzureClient\r\n",
       "%azure.status  Displays status for a job in the current Azure Quantum workspace.                                 Microsoft.Quantum.IQSharp.AzureClient\r\n",
       "%azure.submit  Submits a job to an Azure Quantum workspace.                                                      Microsoft.Quantum.IQSharp.AzureClient\r\n",
       "%azure.target  Sets or displays the active execution target for Q# job submission in an Azure Quantum workspace. Microsoft.Quantum.IQSharp.AzureClient\r\n",
       "%config        Allows setting or querying configuration options.                                                 Microsoft.Quantum.IQSharp.Kernel\r\n",
       "%estimate      Runs a given function or operation on the ResourcesEstimator target machine.                      Microsoft.Quantum.IQSharp.Kernel\r\n",
       "%lsmagic       Returns a list of all currently available magic commands.                                         Microsoft.Quantum.IQSharp.Kernel\r\n",
       "%lsopen        Lists currently opened namespaces and their aliases.                                              Microsoft.Quantum.IQSharp.Kernel\r\n",
       "%package       Provides the ability to load a NuGet package.                                                     Microsoft.Quantum.IQSharp.Kernel\r\n",
       "%performance   Reports current performance metrics for this kernel.                                              Microsoft.Quantum.IQSharp.Kernel\r\n",
       "%simulate      Runs a given function or operation on the QuantumSimulator target machine.                        Microsoft.Quantum.IQSharp.Kernel\r\n",
       "%toffoli       Runs a given function or operation on the ToffoliSimulator target machine.                        Microsoft.Quantum.IQSharp.Kernel\r\n",
       "%who           Lists the Q# operations available in the current session.                                         Microsoft.Quantum.IQSharp.Kernel\r\n",
       "%workspace     Provides actions related to the current workspace.                                                Microsoft.Quantum.IQSharp.Kernel\r\n"
      ]
     },
     "execution_count": 11,
     "metadata": {},
     "output_type": "execute_result"
    }
   ],
   "source": [
    "%lsmagic"
   ]
  },
  {
   "cell_type": "markdown",
   "metadata": {
    "slideshow": {
     "slide_type": "slide"
    }
   },
   "source": [
    "### Resource estimation!"
   ]
  },
  {
   "cell_type": "code",
   "execution_count": 58,
   "metadata": {
    "slideshow": {
     "slide_type": "-"
    }
   },
   "outputs": [
    {
     "data": {
      "application/json": "[{\"Metric\":\"CNOT\",\"Sum\":10.0,\"Max\":10.0},{\"Metric\":\"QubitClifford\",\"Sum\":4.0,\"Max\":4.0},{\"Metric\":\"R\",\"Sum\":0.0,\"Max\":0.0},{\"Metric\":\"Measure\",\"Sum\":3.0,\"Max\":3.0},{\"Metric\":\"T\",\"Sum\":7.0,\"Max\":7.0},{\"Metric\":\"Depth\",\"Sum\":5.0,\"Max\":5.0},{\"Metric\":\"Width\",\"Sum\":3.0,\"Max\":3.0},{\"Metric\":\"BorrowedWidth\",\"Sum\":0.0,\"Max\":0.0}]",
      "text/html": [
       "<table><thead><tr><th style=\"text-align: start;\">Metric</th><th style=\"text-align: start;\">Sum</th><th style=\"text-align: start;\">Max</th></tr></thead><tbody><tr><td style=\"text-align: start;\">CNOT</td><td style=\"text-align: start;\">10</td><td style=\"text-align: start;\">10</td></tr><tr><td style=\"text-align: start;\">QubitClifford</td><td style=\"text-align: start;\">4</td><td style=\"text-align: start;\">4</td></tr><tr><td style=\"text-align: start;\">R</td><td style=\"text-align: start;\">0</td><td style=\"text-align: start;\">0</td></tr><tr><td style=\"text-align: start;\">Measure</td><td style=\"text-align: start;\">3</td><td style=\"text-align: start;\">3</td></tr><tr><td style=\"text-align: start;\">T</td><td style=\"text-align: start;\">7</td><td style=\"text-align: start;\">7</td></tr><tr><td style=\"text-align: start;\">Depth</td><td style=\"text-align: start;\">5</td><td style=\"text-align: start;\">5</td></tr><tr><td style=\"text-align: start;\">Width</td><td style=\"text-align: start;\">3</td><td style=\"text-align: start;\">3</td></tr><tr><td style=\"text-align: start;\">BorrowedWidth</td><td style=\"text-align: start;\">0</td><td style=\"text-align: start;\">0</td></tr></tbody></table>"
      ],
      "text/plain": [
       "Metric        Sum Max\r\n",
       "------------- -- --\r\n",
       "CNOT          10 10\r\n",
       "QubitClifford 4  4\r\n",
       "R             0  0\r\n",
       "Measure       3  3\r\n",
       "T             7  7\r\n",
       "Depth         5  5\r\n",
       "Width         3  3\r\n",
       "BorrowedWidth 0  0\r\n"
      ]
     },
     "execution_count": 58,
     "metadata": {},
     "output_type": "execute_result"
    }
   ],
   "source": [
    "%estimate UseCtlFunctor"
   ]
  },
  {
   "cell_type": "markdown",
   "metadata": {
    "slideshow": {
     "slide_type": "slide"
    }
   },
   "source": [
    "## Unit testing in Q#\n",
    "\n",
    "- Great way to check that what we have typed matches paper results 😊"
   ]
  },
  {
   "cell_type": "code",
   "execution_count": 14,
   "metadata": {
    "slideshow": {
     "slide_type": "-"
    }
   },
   "outputs": [
    {
     "data": {
      "application/json": "[\"AllocateQubitRegister\"]",
      "text/html": [
       "<ul><li>AllocateQubitRegister</li></ul>"
      ],
      "text/plain": [
       "AllocateQubitRegister"
      ]
     },
     "execution_count": 14,
     "metadata": {},
     "output_type": "execute_result"
    }
   ],
   "source": [
    "open Microsoft.Quantum.Arrays;\n",
    "\n",
    "operation AllocateQubitRegister(numQubits : Int) : Unit {\n",
    "\n",
    "    Fact(numQubits > 0, \"Expected a positive number.\");\n",
    "    \n",
    "    using (register = Qubit[numQubits]) {\n",
    "        ApplyToEach(AssertQubit(Zero, _), register);\n",
    "    }\n",
    "    Message(\"Test passed!\");\n",
    "}"
   ]
  },
  {
   "cell_type": "code",
   "execution_count": 15,
   "metadata": {
    "slideshow": {
     "slide_type": "-"
    }
   },
   "outputs": [
    {
     "name": "stdout",
     "output_type": "stream",
     "text": [
      "Test passed!\r\n"
     ]
    },
    {
     "data": {
      "application/json": "{\"@type\":\"tuple\"}",
      "text/plain": [
       "()"
      ]
     },
     "execution_count": 15,
     "metadata": {},
     "output_type": "execute_result"
    }
   ],
   "source": [
    "%simulate AllocateQubitRegister numQubits=5"
   ]
  },
  {
   "cell_type": "markdown",
   "metadata": {
    "slideshow": {
     "slide_type": "slide"
    }
   },
   "source": [
    "## Unit testing in Q# cont.\n",
    "\n",
    "- Helpful to test if optimizations still do the same thing\n",
    "- Uses the Choi–Jamiłkowski isomorphism to make an assertion of operation equvalence to one about preparing states\n",
    "    - We know that if you apply an operation and then it's adjoint, that should be an Identity operation\n",
    "    - Make a channel that applies your operation under test, and then the adjoint of your reference operation.\n",
    "    - If you start with a maximally entangled state, then apply the channel to one half of a maximally entangled state, then you can use state assertions to verify that you still have that same maximally entangled state.\n"
   ]
  },
  {
   "cell_type": "code",
   "execution_count": 71,
   "metadata": {
    "slideshow": {
     "slide_type": "-"
    }
   },
   "outputs": [
    {
     "data": {
      "application/json": "[\"ApplyCNOT\"]",
      "text/html": [
       "<ul><li>ApplyCNOT</li></ul>"
      ],
      "text/plain": [
       "ApplyCNOT"
      ]
     },
     "execution_count": 71,
     "metadata": {},
     "output_type": "execute_result"
    }
   ],
   "source": [
    "open Microsoft.Quantum.Diagnostics; \n",
    "\n",
    "operation ApplyCNOT(register : Qubit[])\n",
    ": Unit is Adj + Ctl {\n",
    "    CNOT(register[0], register[1]);\n",
    "}"
   ]
  },
  {
   "cell_type": "code",
   "execution_count": 72,
   "metadata": {
    "slideshow": {
     "slide_type": "slide"
    }
   },
   "outputs": [
    {
     "data": {
      "application/json": "[\"ApplyCNOTTheOtherWay\",\"CheckThatThisWorks\"]",
      "text/html": [
       "<ul><li>ApplyCNOTTheOtherWay</li><li>CheckThatThisWorks</li></ul>"
      ],
      "text/plain": [
       "ApplyCNOTTheOtherWay, CheckThatThisWorks"
      ]
     },
     "execution_count": 72,
     "metadata": {},
     "output_type": "execute_result"
    }
   ],
   "source": [
    "operation ApplyCNOTTheOtherWay(register : Qubit[])\n",
    ": Unit is Adj + Ctl {\n",
    "    within {\n",
    "        ApplyToEachCA(H, register);\n",
    "    } apply {\n",
    "        CNOT(register[1], register[0]);\n",
    "    }\n",
    "}\n",
    "\n",
    "operation CheckThatThisWorks() : Unit {\n",
    "    AssertOperationsEqualReferenced(2, ApplyCNOT, ApplyCNOTTheOtherWay);\n",
    "    Message(\"It works!\");\n",
    "}"
   ]
  },
  {
   "cell_type": "code",
   "execution_count": 73,
   "metadata": {
    "slideshow": {
     "slide_type": "-"
    }
   },
   "outputs": [
    {
     "name": "stdout",
     "output_type": "stream",
     "text": [
      "It works!\r\n"
     ]
    },
    {
     "data": {
      "application/json": "{\"@type\":\"tuple\"}",
      "text/plain": [
       "()"
      ]
     },
     "execution_count": 73,
     "metadata": {},
     "output_type": "execute_result"
    }
   ],
   "source": [
    "%simulate CheckThatThisWorks"
   ]
  },
  {
   "cell_type": "markdown",
   "metadata": {
    "slideshow": {
     "slide_type": "slide"
    }
   },
   "source": [
    "## Our plan:\n",
    "\n",
    "🧰 **Step 1:** Use functions and operations to implement the qRAM proposals\n",
    "\n",
    "📚 **Step 2:** Use libraries, functors, and other features to reduce how much code we need to write ourselves\n",
    "\n",
    "🧪 **Step 3:** Use testing features to make sure our implementations are correct\n",
    "\n",
    "💰 **Step 4:** Profit! (also publish 📃)"
   ]
  },
  {
   "cell_type": "markdown",
   "metadata": {
    "slideshow": {
     "slide_type": "slide"
    }
   },
   "source": [
    "# Part 3: The qRAM library"
   ]
  },
  {
   "cell_type": "markdown",
   "metadata": {},
   "source": [
    "### https://github.com/qsharp-community/qram\n",
    "\n",
    "<figure style=\"text-align: left;\">\n",
    "        <caption>\n",
    "    </caption>\n",
    "    <img src=\"media/github-screencap.png\" width=\"50%\">\n",
    "\n",
    "</figure>"
   ]
  },
  {
   "cell_type": "markdown",
   "metadata": {
    "slideshow": {
     "slide_type": "slide"
    }
   },
   "source": [
    "## Basic layout:\n",
    "\n",
    "```\n",
    "├───📃 docs 📃\n",
    "├───🔮 samples 🔮\n",
    "│   ├───BucketBrigade\n",
    "│   ├───Grover\n",
    "│   ├───Qrom\n",
    "│   ├───ResourceEstimation\n",
    "│   └───SelectSwap\n",
    "├───✨ src ✨\n",
    "└───🧪 tests 🧪\n",
    "```"
   ]
  },
  {
   "cell_type": "markdown",
   "metadata": {
    "slideshow": {
     "slide_type": "slide"
    }
   },
   "source": [
    "# `src`: where qRAMs are implemented\n",
    "<figure style=\"text-align: left;\">\n",
    "        <caption>\n",
    "    </caption>\n",
    "    <img src=\"media/src-screenshot.png\" width=\"70%\">\n",
    "\n",
    "</figure>\n",
    " add paper tex and pdf panes"
   ]
  },
  {
   "cell_type": "markdown",
   "metadata": {
    "slideshow": {
     "slide_type": "slide"
    }
   },
   "source": [
    "## Currently implemented proposals:\n",
    "\n",
    "### qRAM\n",
    "- Bucket Brigade\n",
    "    - Phase query\n",
    "    - Bit query\n",
    "\n",
    "### qROM\n",
    "- Simple\n",
    "- SELECTSWAP\n",
    "\n",
    "arxiv links"
   ]
  },
  {
   "cell_type": "markdown",
   "metadata": {
    "slideshow": {
     "slide_type": "slide"
    }
   },
   "source": [
    "## Custom Types for quantum memories"
   ]
  },
  {
   "cell_type": "markdown",
   "metadata": {
    "slideshow": {
     "slide_type": "-"
    }
   },
   "source": [
    "```\n",
    "newtype QROM = (\n",
    "    Read : ((LittleEndian, Qubit[]) => Unit is Adj + Ctl), \n",
    "    AddressSize : Int,\n",
    "    DataSize : Int\n",
    ");\n",
    "```"
   ]
  },
  {
   "cell_type": "markdown",
   "metadata": {
    "slideshow": {
     "slide_type": "-"
    }
   },
   "source": [
    "```\n",
    "newtype QRAM = (\n",
    "    QueryPhase : ((AddressRegister, MemoryRegister, Qubit[]) => Unit is Adj + Ctl),\n",
    "    QueryBit : ((AddressRegister, MemoryRegister, Qubit[]) => Unit is Adj + Ctl), \n",
    "    Write : ((MemoryRegister, MemoryCell) => Unit), \n",
    "    AddressSize : Int,\n",
    "    DataSize : Int\n",
    ");\n",
    "```"
   ]
  },
  {
   "cell_type": "markdown",
   "metadata": {
    "slideshow": {
     "slide_type": "slide"
    }
   },
   "source": [
    "## Using a qROM"
   ]
  },
  {
   "cell_type": "code",
   "execution_count": 26,
   "metadata": {
    "slideshow": {
     "slide_type": "-"
    }
   },
   "outputs": [
    {
     "data": {
      "application/json": "{\"LastUpdated\":\"2020-08-23T17:23:11.9639777-07:00\",\"IsCompleted\":false,\"Description\":\"Adding package QSharpCommunity.Libraries.Qram::0.1.35\",\"Subtask\":\"getting dependencies\"}",
      "text/plain": [
       "Adding package QSharpCommunity.Libraries.Qram::0.1.35: getting dependencies."
      ]
     },
     "metadata": {},
     "output_type": "display_data"
    },
    {
     "name": "stderr",
     "output_type": "stream",
     "text": [
      "Unable to find package 'QSharpCommunity.Libraries.Qram'. Existing packages must be restored before performing an install or update.\r\n"
     ]
    }
   ],
   "source": [
    "%package QSharpCommunity.Libraries.Qram::0.1.35"
   ]
  },
  {
   "cell_type": "code",
   "execution_count": 25,
   "metadata": {},
   "outputs": [
    {
     "data": {
      "application/json": "[\"Igsqt.Demo.EntangleQubits\",\"Igsqt.Demo.HelloWorld\",\"Igsqt.Demo.QrngWithDiagnostics\",\"Igsqt.Demo.SampleQrng\",\"Igsqt.DeutschJozsa.ApplyIdOracle\",\"Igsqt.DeutschJozsa.ApplyNotOracle\",\"Igsqt.DeutschJozsa.ApplyOneOracle\",\"Igsqt.DeutschJozsa.ApplyZeroOracle\",\"Igsqt.DeutschJozsa.CheckIfOracleIsBalanced\",\"Igsqt.DeutschJozsa.RunDeutschJozsaAlgorithm\"]",
      "text/html": [
       "<ul><li>Igsqt.Demo.EntangleQubits</li><li>Igsqt.Demo.HelloWorld</li><li>Igsqt.Demo.QrngWithDiagnostics</li><li>Igsqt.Demo.SampleQrng</li><li>Igsqt.DeutschJozsa.ApplyIdOracle</li><li>Igsqt.DeutschJozsa.ApplyNotOracle</li><li>Igsqt.DeutschJozsa.ApplyOneOracle</li><li>Igsqt.DeutschJozsa.ApplyZeroOracle</li><li>Igsqt.DeutschJozsa.CheckIfOracleIsBalanced</li><li>Igsqt.DeutschJozsa.RunDeutschJozsaAlgorithm</li></ul>"
      ],
      "text/plain": [
       "Igsqt.Demo.EntangleQubits, Igsqt.Demo.HelloWorld, Igsqt.Demo.QrngWithDiagnostics, Igsqt.Demo.SampleQrng, Igsqt.DeutschJozsa.ApplyIdOracle, Igsqt.DeutschJozsa.ApplyNotOracle, Igsqt.DeutschJozsa.ApplyOneOracle, Igsqt.DeutschJozsa.ApplyZeroOracle, Igsqt.DeutschJozsa.CheckIfOracleIsBalanced, Igsqt.DeutschJozsa.RunDeutschJozsaAlgorithm"
      ]
     },
     "execution_count": 25,
     "metadata": {},
     "output_type": "execute_result"
    }
   ],
   "source": [
    "%workspace reload"
   ]
  },
  {
   "cell_type": "markdown",
   "metadata": {
    "slideshow": {
     "slide_type": "-"
    }
   },
   "source": [
    "add manual beta upload"
   ]
  },
  {
   "cell_type": "markdown",
   "metadata": {
    "slideshow": {
     "slide_type": "slide"
    }
   },
   "source": [
    "## Libraries help us bootstrap"
   ]
  },
  {
   "cell_type": "code",
   "execution_count": 76,
   "metadata": {
    "slideshow": {
     "slide_type": "-"
    }
   },
   "outputs": [
    {
     "name": "stderr",
     "output_type": "stream",
     "text": [
      "C:\\snippet_.qs(7,6): error QS6104: No namespace with the name \"Qram\" exists.\r\n"
     ]
    }
   ],
   "source": [
    "open Microsoft.Quantum.Arrays;\n",
    "open Microsoft.Quantum.Arithmetic;\n",
    "open Microsoft.Quantum.Canon;\n",
    "open Microsoft.Quantum.Convert;\n",
    "open Microsoft.Quantum.Intrinsic;\n",
    "open Microsoft.Quantum.Measurement;\n",
    "open Qram;"
   ]
  },
  {
   "cell_type": "markdown",
   "metadata": {
    "slideshow": {
     "slide_type": "slide"
    }
   },
   "source": [
    "## Custom types  and functions allow us to process memory contents"
   ]
  },
  {
   "cell_type": "code",
   "execution_count": null,
   "metadata": {
    "slideshow": {
     "slide_type": "-"
    }
   },
   "outputs": [],
   "source": [
    "function ExampleMemoryData() : MemoryBank {\n",
    "    let numDataBits = 3;\n",
    "    let data =  [\n",
    "        (0, IntAsBoolArray(0, numDataBits)), \n",
    "        (2, IntAsBoolArray(5, numDataBits)),\n",
    "        (4, IntAsBoolArray(2, numDataBits)),\n",
    "        (5, IntAsBoolArray(3, numDataBits))\n",
    "    ];\n",
    "    return GeneratedMemoryBank(Mapped(MemoryCell, data));\n",
    "}"
   ]
  },
  {
   "cell_type": "markdown",
   "metadata": {
    "slideshow": {
     "slide_type": "slide"
    }
   },
   "source": [
    "### Using a qROM (Read Only Memory)"
   ]
  },
  {
   "cell_type": "code",
   "execution_count": null,
   "metadata": {
    "slideshow": {
     "slide_type": "-"
    }
   },
   "outputs": [],
   "source": [
    "operation QueryQrom(queryAddress : Int) : Int {\n",
    "    // Generate a (Int, Bool[]) array of data.\n",
    "    let data = ExampleMemoryData();\n",
    "    // Create the QRAM.\n",
    "    let memory = QromOracle(data::DataSet);\n",
    "    // Measure and return the data value stored at `queryAddress`.\n",
    "    return QueryAndMeasureQrom(memory, queryAddress);\n",
    "}"
   ]
  },
  {
   "cell_type": "code",
   "execution_count": null,
   "metadata": {
    "slideshow": {
     "slide_type": "-"
    }
   },
   "outputs": [],
   "source": [
    "operation QueryAndMeasureQrom(memory : QROM, queryAddress : Int) : Int {\n",
    "    using ((addressRegister, targetRegister) = \n",
    "            (Qubit[memory::AddressSize], Qubit[memory::DataSize])) {\n",
    "        ApplyPauliFromBitString (PauliX, true, IntAsBoolArray(queryAddress, memory::AddressSize), addressRegister);\n",
    "        memory::Read(LittleEndian(addressRegister), targetRegister);\n",
    "        ResetAll(addressRegister);\n",
    "        return MeasureInteger(LittleEndian(targetRegister));\n",
    "    }\n",
    "}"
   ]
  },
  {
   "cell_type": "markdown",
   "metadata": {
    "slideshow": {
     "slide_type": "slide"
    }
   },
   "source": [
    "### Using a qROM"
   ]
  },
  {
   "cell_type": "markdown",
   "metadata": {
    "slideshow": {
     "slide_type": "-"
    }
   },
   "source": [
    "```\n",
    "// data: {(0, 0), (2, 5), (4, 2), (5, 3)}\n",
    "```"
   ]
  },
  {
   "cell_type": "code",
   "execution_count": null,
   "metadata": {
    "slideshow": {
     "slide_type": "-"
    }
   },
   "outputs": [],
   "source": [
    "%simulate QueryQrom queryAddress=2"
   ]
  },
  {
   "cell_type": "code",
   "execution_count": null,
   "metadata": {
    "slideshow": {
     "slide_type": "-"
    }
   },
   "outputs": [],
   "source": [
    "%estimate QueryQrom queryAddress=2"
   ]
  },
  {
   "cell_type": "markdown",
   "metadata": {
    "slideshow": {
     "slide_type": "slide"
    }
   },
   "source": [
    "# `tests`: ✔ our work\n",
    "- Can run small instances on simulators\n",
    "- Can verify resource counts on larger instances\n",
    "<figure style=\"text-align: left;\">\n",
    "        <caption>\n",
    "    </caption>\n",
    "    <img src=\"media/tests-screenshot.png\" width=\"70%\">\n",
    "\n",
    "</figure>\n"
   ]
  },
  {
   "cell_type": "markdown",
   "metadata": {
    "slideshow": {
     "slide_type": "skip"
    }
   },
   "source": [
    "# `tests`: ✔ our work\n",
    "<figure style=\"text-align: left;\">\n",
    "        <caption>\n",
    "    </caption>\n",
    "    <img src=\"media/tests-vs-screenshot.png\" width=\"80%\">\n",
    "\n",
    "</figure>\n"
   ]
  },
  {
   "cell_type": "markdown",
   "metadata": {
    "slideshow": {
     "slide_type": "slide"
    }
   },
   "source": [
    "# `docs`: help others use our work💪\n",
    "\n",
    "<figure style=\"text-align: left;\">\n",
    "        <caption>\n",
    "    </caption>\n",
    "    <img src=\"media/docs.png\" width=\"80%\">\n",
    "\n",
    "</figure>"
   ]
  },
  {
   "cell_type": "markdown",
   "metadata": {
    "slideshow": {
     "slide_type": "slide"
    }
   },
   "source": [
    "## 💡Q# Tip: Intellisense is your friend, and reads your docs! \n",
    "<figure style=\"text-align: left;\">\n",
    "<img src=\"media/intellisense.png\" width=\"80%\">\n",
    "</figure>"
   ]
  },
  {
   "cell_type": "markdown",
   "metadata": {
    "slideshow": {
     "slide_type": "slide"
    }
   },
   "source": [
    "# What's next for the qRAM library?\n",
    "\n",
    "🔍 Detailed resource counting for subroutines of our programs\n",
    "\n",
    "📓 More documentation in an interactive browser\n",
    "\n",
    "📄 Research paper compiling our results\n",
    "\n",
    "❓ More qRAM/qROM proposals "
   ]
  },
  {
   "cell_type": "markdown",
   "metadata": {
    "slideshow": {
     "slide_type": "slide"
    }
   },
   "source": [
    "<figure style=\"text-align: left;\">\n",
    "        <caption>\n",
    "    </caption>\n",
    "    <img src=\"media/milestones.png\" width=\"80%\">\n",
    "\n",
    "</figure>"
   ]
  },
  {
   "cell_type": "markdown",
   "metadata": {
    "slideshow": {
     "slide_type": "slide"
    }
   },
   "source": [
    "# Part 4: How can you start your own Q# project?"
   ]
  },
  {
   "cell_type": "markdown",
   "metadata": {
    "slideshow": {
     "slide_type": "slide"
    }
   },
   "source": [
    "## How we started: qRAM is a Q# community project\n",
    "\n",
    "<figure style=\"text-align: left;\">\n",
    "    <img src=\"media/qsc-projects.png\" width=\"80%\">\n",
    "</figure>"
   ]
  },
  {
   "cell_type": "markdown",
   "metadata": {},
   "source": [
    "## There are a "
   ]
  },
  {
   "cell_type": "markdown",
   "metadata": {
    "slideshow": {
     "slide_type": "slide"
    }
   },
   "source": [
    "# 📝 Review time 📝\n",
    "\n",
    "\n",
    "- qRAM is an intersting research area where we need to be able to do resource estimation ✔\n",
    "- Q# is a high level, open-source language for writing quantum algorithms ✔\n",
    "- We have implemented a number of proposals for qRAMs in a Q# library and are working on full comparisons ✔\n",
    "- The Q# Community is a great resource for help when you are working on Q# projects ✔"
   ]
  },
  {
   "cell_type": "markdown",
   "metadata": {
    "slideshow": {
     "slide_type": "slide"
    }
   },
   "source": [
    "## ❔ What happens now ❔\n",
    "\n",
    "- Try Q# for yourself!\n",
    "    - Check out some samples\n",
    "    - Write blog posts\n",
    "    - Make tutorials\n",
    "- Make the community better than you found it!\n",
    "    - Contribute to docs\n",
    "    - Fix bugs/File issues\n",
    "- Act intentionally to include everyone and expand the community 💖"
   ]
  },
  {
   "cell_type": "markdown",
   "metadata": {
    "slideshow": {
     "slide_type": "slide"
    }
   },
   "source": [
    "## 👩‍💻Quantum programming resources!👩‍💻\n",
    "\n",
    "- [_Learn Quantum Computing with Python and Q#_](http://www.manning.com/?a_aid=learn-qc-kaiser), in MEAP from Manning Publications\n",
    "- Q# Documentation: [docs.microsoft.com/quantum](docs.microsoft.com/quantum)\n",
    "- Community projects:\n",
    "    - [qsharp.community](https://qsharp.community/)\n",
    "    - [quantumcomputing.stackexchange.com](https://quantumcomputing.stackexchange.com/)\n",
    "    - [Women in Quantum Computing and Algorithims](https://wiqca.dev)"
   ]
  },
  {
   "cell_type": "code",
   "execution_count": null,
   "metadata": {},
   "outputs": [],
   "source": []
  }
 ],
 "metadata": {
  "celltoolbar": "Slideshow",
  "kernelspec": {
   "display_name": "Q#",
   "language": "qsharp",
   "name": "iqsharp"
  },
  "language_info": {
   "file_extension": ".qs",
   "mimetype": "text/x-qsharp",
   "name": "qsharp",
   "version": "0.12"
  },
  "livereveal": {
   "autolaunch": true,
   "scroll": true
  },
  "rise": {
   "controls": false
  }
 },
 "nbformat": 4,
 "nbformat_minor": 2
}
